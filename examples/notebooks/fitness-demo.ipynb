{
 "cells": [
  {
   "cell_type": "markdown",
   "metadata": {},
   "source": [
    "This notebook is part of [**byron v0.1**](https://github.com/microgp/byron)  \n",
    "Copyright 2023 Giovanni Squillero and Alberto Tonda  \n",
    "SPDX-License-Identifier: Apache-2.0  "
   ]
  },
  {
   "cell_type": "code",
   "execution_count": 1,
   "metadata": {
    "ExecuteTime": {
     "end_time": "2023-04-04T16:27:10.160611Z",
     "start_time": "2023-04-04T16:27:10.155781Z"
    }
   },
   "outputs": [],
   "source": [
    "import logging\n",
    "import math\n",
    "\n",
    "logging.basicConfig(format=\"[%(asctime)s] %(levelname)s:%(message)s\", datefmt=\"%H:%M:%S\", level=logging.DEBUG)"
   ]
  },
  {
   "cell_type": "code",
   "execution_count": 2,
   "metadata": {
    "ExecuteTime": {
     "end_time": "2023-04-04T16:27:10.752316Z",
     "start_time": "2023-04-04T16:27:10.161225Z"
    }
   },
   "outputs": [
    {
     "name": "stderr",
     "output_type": "stream",
     "text": [
      "[10:24:19] DEBUG:import: Failed to load byron (No module named 'byron'), adding ../src directory.\n"
     ]
    },
    {
     "data": {
      "text/html": [
       "<span style=\"font-weight: bold;\">MicroGP v4!2.0a0.dev1 <span style=\"font-style: italic;\">\"Meaning of Liff\"</span></span><br /><span style=\"font-size: medium\">Copyright &copy; 2022-23 Giovanni Squillero & Alberto Tonda</span>"
      ],
      "text/plain": [
       "<IPython.core.display.HTML object>"
      ]
     },
     "metadata": {},
     "output_type": "display_data"
    }
   ],
   "source": [
    "try:\n",
    "    import byron\n",
    "except ModuleNotFoundError as e:\n",
    "    import sys, os\n",
    "\n",
    "    logging.debug(\"import: Failed to load byron (%s), adding ../src directory.\", e)\n",
    "    sys.path.append(os.path.join(os.pardir, \"src\"))\n",
    "    import byron"
   ]
  },
  {
   "cell_type": "markdown",
   "metadata": {},
   "source": [
    "# Fitness Demo"
   ]
  },
  {
   "cell_type": "markdown",
   "metadata": {},
   "source": [
    "`Fitness` provides a consistent framework to store and compare the evaluations of individual. Given two individuals $i_1$ and $i_2$ with fitness values, respectively, equal to `f1` and `f2`:\n",
    "\n",
    "* if `f1 > f2`, then $i_1$ is more fit than $i_2$ (i.e., it is preferable)\n",
    "* if `f1 < f2`, then $i_2$ is more fit than $i_1$ (i.e., it is preferable)\n",
    "* if `f1 == f2`, then $i_1$ and $i_2$ may be considered equivalent"
   ]
  },
  {
   "cell_type": "markdown",
   "metadata": {},
   "source": [
    "## Scalar Fitness\n",
    "\n",
    "`Scalar` fitness are floating-point, single-value fitness. A high fitness value is better than a low one. Rounding is taken into consideration: a fitness value of $(\\sqrt{2})^2$ is considered to be equivalent to a fitness value of $2$, although in Python `math.sqrt(2) ** 2 != 2` due to approximations."
   ]
  },
  {
   "cell_type": "code",
   "execution_count": 3,
   "metadata": {
    "ExecuteTime": {
     "end_time": "2023-04-04T16:27:10.757254Z",
     "start_time": "2023-04-04T16:27:10.754240Z"
    }
   },
   "outputs": [
    {
     "name": "stdout",
     "output_type": "stream",
     "text": [
      "2 == 2.0000000000000004 is False  /  2 < 2.0000000000000004 is True\n",
      "⸨2⸩ == ⸨2⸩ is True  /  ⸨2⸩ < ⸨2⸩ is False\n"
     ]
    }
   ],
   "source": [
    "v1 = 2\n",
    "v2 = math.sqrt(2) ** 2\n",
    "\n",
    "f1 = byron.fit.Scalar(v1)\n",
    "f2 = byron.fit.Scalar(v2)\n",
    "\n",
    "print(f\"{v1} == {v2} is {v1 == v2}  /  {v1} < {v2} is {v1 < v2}\")\n",
    "print(f\"{f1} == {f2} is {f1 == f2}  /  {f1} < {f2} is {f1 < f2}\")"
   ]
  },
  {
   "cell_type": "markdown",
   "metadata": {},
   "source": [
    "The class `ScalarExact` handles floating point without rounding."
   ]
  },
  {
   "cell_type": "code",
   "execution_count": 4,
   "metadata": {
    "ExecuteTime": {
     "end_time": "2023-04-04T16:27:10.761098Z",
     "start_time": "2023-04-04T16:27:10.758613Z"
    }
   },
   "outputs": [
    {
     "name": "stdout",
     "output_type": "stream",
     "text": [
      "2 == 2.0000000000000004 is False  /  2 < 2.0000000000000004 is True\n",
      "⸨2.0♯⸩ == ⸨2.0000000000000004♯⸩ is False  /  ⸨2.0♯⸩ < ⸨2.0000000000000004♯⸩ is True\n"
     ]
    }
   ],
   "source": [
    "v1 = 2\n",
    "v2 = math.sqrt(2) ** 2\n",
    "\n",
    "f1 = byron.fit.ScalarExact(v1)\n",
    "f2 = byron.fit.ScalarExact(v2)\n",
    "\n",
    "print(f\"{v1} == {v2} is {v1 == v2}  /  {v1} < {v2} is {v1 < v2}\")\n",
    "print(f\"{f1} == {f2} is {f1 == f2}  /  {f1} < {f2} is {f1 < f2}\")"
   ]
  },
  {
   "cell_type": "markdown",
   "metadata": {},
   "source": [
    "The class `ScalarInteger` handles integer values. Large numbers as $17^{19}$ and $17^{19}+1$ can be used, while a `Scalar` fitness would suffer from rounding."
   ]
  },
  {
   "cell_type": "code",
   "execution_count": 5,
   "metadata": {
    "ExecuteTime": {
     "end_time": "2023-04-04T16:27:10.765891Z",
     "start_time": "2023-04-04T16:27:10.763753Z"
    }
   },
   "outputs": [
    {
     "name": "stdout",
     "output_type": "stream",
     "text": [
      "⸨239,072,435,685,151,324,847,153𝕚⸩ == ⸨239,072,435,685,151,324,847,154𝕚⸩ is False  /  ⸨239,072,435,685,151,324,847,153𝕚⸩ < ⸨239,072,435,685,151,324,847,154𝕚⸩ is True\n",
      "⸨2.39072e+23⸩ == ⸨2.39072e+23⸩ is True  /  ⸨2.39072e+23⸩ < ⸨2.39072e+23⸩ is False\n"
     ]
    }
   ],
   "source": [
    "v1 = 17**19\n",
    "v2 = v1 + 1\n",
    "\n",
    "fi1 = byron.fit.ScalarInteger(v1)\n",
    "fi2 = byron.fit.ScalarInteger(v2)\n",
    "print(f\"{fi1} == {fi2} is {fi1 == fi2}  /  {fi1} < {fi2} is {fi1 < fi2}\")\n",
    "\n",
    "fs1 = byron.fit.Scalar(v1)\n",
    "fs2 = byron.fit.Scalar(v2)\n",
    "print(f\"{fs1} == {fs2} is {fs1 == fs2}  /  {fs1} < {fs2} is {fs1 < fs2}\")"
   ]
  },
  {
   "cell_type": "markdown",
   "metadata": {},
   "source": [
    "To minimize instead of maximizing the value (i.e., smaller is fitter), all `Fitness` can be reversed."
   ]
  },
  {
   "cell_type": "code",
   "execution_count": 6,
   "metadata": {
    "ExecuteTime": {
     "end_time": "2023-04-04T16:27:10.769319Z",
     "start_time": "2023-04-04T16:27:10.767180Z"
    }
   },
   "outputs": [
    {
     "name": "stdout",
     "output_type": "stream",
     "text": [
      "⸨ᴙ23⸩ == ⸨ᴙ10⸩ is False  /  ⸨ᴙ23⸩ > ⸨ᴙ10⸩ is False  /  ⸨ᴙ23⸩ < ⸨ᴙ10⸩ is True\n"
     ]
    }
   ],
   "source": [
    "MyFitnessR = byron.fit.reverse_fitness(byron.fitness.Scalar)\n",
    "\n",
    "f1 = MyFitnessR(23)\n",
    "f2 = MyFitnessR(10)\n",
    "\n",
    "print(f\"{f1} == {f2} is {f1 == f2}  /  {f1} > {f2} is {f1 > f2}  /  {f1} < {f2} is {f1 < f2}\")"
   ]
  },
  {
   "cell_type": "markdown",
   "metadata": {},
   "source": [
    "Reversed fitnesses may be reversed..."
   ]
  },
  {
   "cell_type": "code",
   "execution_count": 7,
   "metadata": {
    "ExecuteTime": {
     "end_time": "2023-04-04T16:27:10.824663Z",
     "start_time": "2023-04-04T16:27:10.770923Z"
    }
   },
   "outputs": [
    {
     "name": "stdout",
     "output_type": "stream",
     "text": [
      "⸨ᴙᴙ23⸩ == ⸨ᴙᴙ10⸩ is False  /  ⸨ᴙᴙ23⸩ > ⸨ᴙᴙ10⸩ is True  /  ⸨ᴙᴙ23⸩ < ⸨ᴙᴙ10⸩ is False\n"
     ]
    }
   ],
   "source": [
    "MyFitnessR = byron.fit.reverse_fitness(byron.fitness.Scalar)\n",
    "MyFitnessRR = byron.fit.reverse_fitness(MyFitnessR)\n",
    "\n",
    "f1 = MyFitnessRR(23)\n",
    "f2 = MyFitnessRR(10)\n",
    "\n",
    "print(f\"{f1} == {f2} is {f1 == f2}  /  {f1} > {f2} is {f1 > f2}  /  {f1} < {f2} is {f1 < f2}\")"
   ]
  },
  {
   "cell_type": "code",
   "execution_count": 8,
   "metadata": {
    "ExecuteTime": {
     "end_time": "2023-04-04T16:27:10.825033Z",
     "start_time": "2023-04-04T16:27:10.774427Z"
    }
   },
   "outputs": [
    {
     "name": "stdout",
     "output_type": "stream",
     "text": [
      "⟦23.0, 10.0⟧ == ⟦18.0, 5.0⟧ is False  /  ⟦23.0, 10.0⟧ < ⟦18.0, 5.0⟧ is False  /  ⟦23.0, 10.0⟧ > ⟦18.0, 5.0⟧ is True\n"
     ]
    }
   ],
   "source": [
    "f1 = byron.fit.Vector([23, 10])\n",
    "f2 = byron.fit.Vector([18, 5])\n",
    "\n",
    "print(f\"{f1} == {f2} is {f1 == f2}  /  {f1} < {f2} is {f1 < f2}  /  {f1} > {f2} is {f1 > f2}\")"
   ]
  },
  {
   "cell_type": "code",
   "execution_count": 9,
   "metadata": {
    "ExecuteTime": {
     "end_time": "2023-04-04T16:27:10.825270Z",
     "start_time": "2023-04-04T16:27:10.780971Z"
    }
   },
   "outputs": [
    {
     "name": "stdout",
     "output_type": "stream",
     "text": [
      "⸨0𝕚, 1𝕚, 2𝕚, 3𝕚, 0𝕚⸩ == ⸨0𝕚, 3𝕚, 2𝕚, 1𝕚, 0𝕚⸩ is False  /  ⸨0𝕚, 1𝕚, 2𝕚, 3𝕚, 0𝕚⸩ < ⸨0𝕚, 3𝕚, 2𝕚, 1𝕚, 0𝕚⸩ is True  /  ⸨0𝕚, 1𝕚, 2𝕚, 3𝕚, 0𝕚⸩ > ⸨0𝕚, 3𝕚, 2𝕚, 1𝕚, 0𝕚⸩ is False\n"
     ]
    }
   ],
   "source": [
    "f1 = byron.fit.Sequence(\n",
    "    [\n",
    "        byron.fit.ScalarInteger(0),\n",
    "        byron.fit.ScalarInteger(1),\n",
    "        byron.fit.ScalarInteger(2),\n",
    "        byron.fit.ScalarInteger(3),\n",
    "        byron.fit.ScalarInteger(0),\n",
    "    ]\n",
    ")\n",
    "f2 = byron.fit.Sequence(\n",
    "    [\n",
    "        byron.fit.ScalarInteger(0),\n",
    "        byron.fit.ScalarInteger(3),\n",
    "        byron.fit.ScalarInteger(2),\n",
    "        byron.fit.ScalarInteger(1),\n",
    "        byron.fit.ScalarInteger(0),\n",
    "    ]\n",
    ")\n",
    "\n",
    "print(f\"{f1} == {f2} is {f1 == f2}  /  {f1} < {f2} is {f1 < f2}  /  {f1} > {f2} is {f1 > f2}\")"
   ]
  },
  {
   "cell_type": "code",
   "execution_count": null,
   "metadata": {
    "ExecuteTime": {
     "end_time": "2023-04-04T16:27:10.825350Z",
     "start_time": "2023-04-04T16:27:10.783872Z"
    }
   },
   "outputs": [],
   "source": []
  }
 ],
 "metadata": {
  "kernelspec": {
   "display_name": "Python 3 (ipykernel)",
   "language": "python",
   "name": "python3"
  },
  "language_info": {
   "codemirror_mode": {
    "name": "ipython",
    "version": 3
   },
   "file_extension": ".py",
   "mimetype": "text/x-python",
   "name": "python",
   "nbconvert_exporter": "python",
   "pygments_lexer": "ipython3",
   "version": "3.11.3"
  }
 },
 "nbformat": 4,
 "nbformat_minor": 1
}
