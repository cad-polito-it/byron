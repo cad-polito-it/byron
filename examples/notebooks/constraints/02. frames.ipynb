{
 "cells": [
  {
   "cell_type": "markdown",
   "id": "257e30e7-d722-4672-9ac9-8fe769cfcf2b",
   "metadata": {},
   "source": [
    "This notebook is part of [**Byron v0.1**](https://github.com/cad-polito-it/byron)  \n",
    "Copyright 2023 Giovanni Squillero and Alberto Tonda  \n",
    "SPDX-License-Identifier: [Apache-2.0](https://www.tldrlegal.com/license/apache-license-2-0-apache-2-0) "
   ]
  },
  {
   "cell_type": "code",
   "execution_count": 1,
   "id": "a011ff81-bfd5-48be-a8f4-df8051ffbb6e",
   "metadata": {
    "ExecuteTime": {
     "end_time": "2023-08-19T15:51:51.372267Z",
     "start_time": "2023-08-19T15:51:50.510744Z"
    }
   },
   "outputs": [
    {
     "name": "stderr",
     "output_type": "stream",
     "text": [
      "/var/folders/31/dkl97hks2c14b663vl55pt440000gn/T/ipykernel_12219/1429530752.py:1: ByronPerformanceWarning: \n",
      "  Paranoia checks are enabled in this notebook: performances can be significantly impaired\n",
      "  [see https://github.com/cad-polito-it/byron/blob/pre-alpha/docs/paranoia.md for details]\n",
      "  import byron\n"
     ]
    }
   ],
   "source": [
    "import byron"
   ]
  },
  {
   "cell_type": "markdown",
   "id": "e74cf916-a443-42f3-ba86-d2d370d1b20e",
   "metadata": {},
   "source": [
    "Everything for the definition of the constraints (the old \"instruction library\") is under the namespace `byron.framework` (lazy fingers can use `byron.f`)"
   ]
  },
  {
   "cell_type": "markdown",
   "id": "e3f0bfcc-98e2-4183-8f87-621f2d22fddb",
   "metadata": {},
   "source": [
    "# Frames"
   ]
  },
  {
   "cell_type": "code",
   "execution_count": 2,
   "id": "353c5b2e-8326-4fce-8330-58f5645bf9e7",
   "metadata": {
    "ExecuteTime": {
     "end_time": "2023-08-19T15:51:51.377272Z",
     "start_time": "2023-08-19T15:51:51.374303Z"
    }
   },
   "outputs": [],
   "source": [
    "macro_foo = byron.f.macro('foo #{num:04x}', num=byron.f.integer_parameter(0, 2**16))\n",
    "macro_bar = byron.f.macro('bar {num:+0.3e}', num=byron.f.float_parameter(-1, 1))\n",
    "macro_baz = byron.f.macro('baz 0x{array}', array=byron.f.array_parameter(\"0123456789abcdef\", 8))"
   ]
  },
  {
   "cell_type": "markdown",
   "id": "2a7e9015-62a0-49a0-a35d-838ce5698666",
   "metadata": {},
   "source": [
    "## Macro bunches\n",
    "\n",
    "Macro bunches are sequences of macros randomly selected from a bunch."
   ]
  },
  {
   "cell_type": "code",
   "execution_count": 3,
   "id": "bea3d2b0-bab8-43df-801e-39e1611a0373",
   "metadata": {
    "ExecuteTime": {
     "end_time": "2023-08-19T15:51:51.487730Z",
     "start_time": "2023-08-19T15:51:51.380104Z"
    }
   },
   "outputs": [
    {
     "name": "stdout",
     "output_type": "stream",
     "text": [
      "; 🖋 n1 ➜ Frame❬MacroBunch#1❭\n",
      "baz 0x1b318fbc  ; 🖋 n1.n2 ➜ Macro❬User#3❭\n",
      "bar +5.721e-01  ; 🖋 n1.n3 ➜ Macro❬User#2❭\n",
      "bar -7.438e-01  ; 🖋 n1.n4 ➜ Macro❬User#2❭\n",
      "bar -9.923e-02  ; 🖋 n1.n5 ➜ Macro❬User#2❭\n",
      "baz 0x852eca6d  ; 🖋 n1.n6 ➜ Macro❬User#3❭\n"
     ]
    }
   ],
   "source": [
    "bunch = byron.f.bunch([macro_foo, macro_bar, macro_baz], size=(5, 10 + 1))\n",
    "byron.f.as_text(bunch)"
   ]
  },
  {
   "cell_type": "markdown",
   "id": "3201f4a8-d781-4446-83a6-08ff25e5ebab",
   "metadata": {},
   "source": [
    "The relative frequencies of the macros may be tweaked"
   ]
  },
  {
   "cell_type": "code",
   "execution_count": 4,
   "id": "f1991a6e-5101-4b74-9354-f599c181de5a",
   "metadata": {
    "ExecuteTime": {
     "end_time": "2023-08-19T15:51:51.640036Z",
     "start_time": "2023-08-19T15:51:51.427714Z"
    }
   },
   "outputs": [
    {
     "ename": "AssertionError",
     "evalue": "ValueError (paranoia check): invalid value: 32791",
     "output_type": "error",
     "traceback": [
      "\u001B[0;31m---------------------------------------------------------------------------\u001B[0m",
      "\u001B[0;31mAssertionError\u001B[0m                            Traceback (most recent call last)",
      "Cell \u001B[0;32mIn[4], line 2\u001B[0m\n\u001B[1;32m      1\u001B[0m bunch \u001B[38;5;241m=\u001B[39m byron\u001B[38;5;241m.\u001B[39mf\u001B[38;5;241m.\u001B[39mbunch([macro_foo, macro_bar, macro_baz], size\u001B[38;5;241m=\u001B[39m\u001B[38;5;241m20\u001B[39m, weights\u001B[38;5;241m=\u001B[39m[\u001B[38;5;241m10\u001B[39m, \u001B[38;5;241m2\u001B[39m, \u001B[38;5;241m1\u001B[39m])\n\u001B[0;32m----> 2\u001B[0m \u001B[43mbyron\u001B[49m\u001B[38;5;241;43m.\u001B[39;49m\u001B[43mf\u001B[49m\u001B[38;5;241;43m.\u001B[39;49m\u001B[43mas_text\u001B[49m\u001B[43m(\u001B[49m\u001B[43mbunch\u001B[49m\u001B[43m)\u001B[49m\n",
      "File \u001B[0;32m~/Repos/byron/byron/framework/show_element.py:74\u001B[0m, in \u001B[0;36mas_text\u001B[0;34m(element, seed, node_info, extra_parameters)\u001B[0m\n\u001B[1;32m     72\u001B[0m \u001B[38;5;28;01melse\u001B[39;00m:\n\u001B[1;32m     73\u001B[0m     \u001B[38;5;28;01mraise\u001B[39;00m \u001B[38;5;167;01mNotImplementedError\u001B[39;00m(\u001B[38;5;124mf\u001B[39m\u001B[38;5;124m\"\u001B[39m\u001B[38;5;132;01m{\u001B[39;00m\u001B[38;5;18m__name__\u001B[39m\u001B[38;5;132;01m}\u001B[39;00m\u001B[38;5;124m.as_text(\u001B[39m\u001B[38;5;132;01m{\u001B[39;00melement\u001B[38;5;132;01m!r}\u001B[39;00m\u001B[38;5;124m)\u001B[39m\u001B[38;5;124m\"\u001B[39m)\n\u001B[0;32m---> 74\u001B[0m individual \u001B[38;5;241m=\u001B[39m \u001B[43m_generate_random_individual\u001B[49m\u001B[43m(\u001B[49m\u001B[43mframe\u001B[49m\u001B[43m,\u001B[49m\u001B[43m \u001B[49m\u001B[43mseed\u001B[49m\u001B[38;5;241;43m=\u001B[39;49m\u001B[43mseed\u001B[49m\u001B[43m)\u001B[49m\n\u001B[1;32m     76\u001B[0m \u001B[38;5;28;01mif\u001B[39;00m extra_parameters \u001B[38;5;129;01mis\u001B[39;00m \u001B[38;5;28;01mNone\u001B[39;00m:\n\u001B[1;32m     77\u001B[0m     extra_parameters \u001B[38;5;241m=\u001B[39m \u001B[38;5;28mdict\u001B[39m()\n",
      "File \u001B[0;32m~/Repos/byron/byron/framework/show_element.py:129\u001B[0m, in \u001B[0;36m_generate_random_individual\u001B[0;34m(frame, seed)\u001B[0m\n\u001B[1;32m    127\u001B[0m random_individuals \u001B[38;5;241m=\u001B[39m []\n\u001B[1;32m    128\u001B[0m \u001B[38;5;28;01mwhile\u001B[39;00m \u001B[38;5;129;01mnot\u001B[39;00m random_individuals:\n\u001B[0;32m--> 129\u001B[0m     random_individuals \u001B[38;5;241m=\u001B[39m \u001B[43mrandom_individual\u001B[49m\u001B[43m(\u001B[49m\u001B[43mframe\u001B[49m\u001B[43m)\u001B[49m\n\u001B[1;32m    130\u001B[0m random_individuals[\u001B[38;5;241m0\u001B[39m]\u001B[38;5;241m.\u001B[39mgenome\u001B[38;5;241m.\u001B[39mnodes[NODE_ZERO][\u001B[38;5;124m'\u001B[39m\u001B[38;5;124m$omit_from_dump\u001B[39m\u001B[38;5;124m'\u001B[39m] \u001B[38;5;241m=\u001B[39m \u001B[38;5;28;01mTrue\u001B[39;00m\n\u001B[1;32m    132\u001B[0m rrandom\u001B[38;5;241m.\u001B[39mstate \u001B[38;5;241m=\u001B[39m rrandom_state\n",
      "File \u001B[0;32m~/Repos/byron/byron/registry.py:163\u001B[0m, in \u001B[0;36mgenetic_operator.<locals>.decorator.<locals>.wrapper\u001B[0;34m(*args, **kwargs)\u001B[0m\n\u001B[1;32m    161\u001B[0m wrapper\u001B[38;5;241m.\u001B[39mstats\u001B[38;5;241m.\u001B[39mcalls \u001B[38;5;241m+\u001B[39m\u001B[38;5;241m=\u001B[39m \u001B[38;5;241m1\u001B[39m\n\u001B[1;32m    162\u001B[0m \u001B[38;5;28;01mtry\u001B[39;00m:\n\u001B[0;32m--> 163\u001B[0m     offspring \u001B[38;5;241m=\u001B[39m \u001B[43mfunc\u001B[49m\u001B[43m(\u001B[49m\u001B[38;5;241;43m*\u001B[39;49m\u001B[43margs\u001B[49m\u001B[43m,\u001B[49m\u001B[43m \u001B[49m\u001B[38;5;241;43m*\u001B[39;49m\u001B[38;5;241;43m*\u001B[39;49m\u001B[43mkwargs\u001B[49m\u001B[43m)\u001B[49m\n\u001B[1;32m    164\u001B[0m \u001B[38;5;28;01mexcept\u001B[39;00m ByronOperatorFailure:\n\u001B[1;32m    165\u001B[0m     offspring \u001B[38;5;241m=\u001B[39m \u001B[38;5;28mlist\u001B[39m()\n",
      "File \u001B[0;32m~/Repos/byron/byron/operators/initializers.py:44\u001B[0m, in \u001B[0;36mrandom_individual\u001B[0;34m(top_frame)\u001B[0m\n\u001B[1;32m     42\u001B[0m new_individual \u001B[38;5;241m=\u001B[39m Individual(top_frame)\n\u001B[1;32m     43\u001B[0m \u001B[38;5;28;01mtry\u001B[39;00m:\n\u001B[0;32m---> 44\u001B[0m     new_root \u001B[38;5;241m=\u001B[39m \u001B[43munroll_individual\u001B[49m\u001B[43m(\u001B[49m\u001B[43mnew_individual\u001B[49m\u001B[43m,\u001B[49m\u001B[43m \u001B[49m\u001B[43mtop_frame\u001B[49m\u001B[43m)\u001B[49m\n\u001B[1;32m     45\u001B[0m \u001B[38;5;28;01mexcept\u001B[39;00m ByronOperatorFailure:\n\u001B[1;32m     46\u001B[0m     new_root \u001B[38;5;241m=\u001B[39m \u001B[38;5;28;01mNone\u001B[39;00m\n",
      "File \u001B[0;32m~/Repos/byron/byron/classes/monitor.py:72\u001B[0m, in \u001B[0;36mfailure_rate.<locals>.wrapper\u001B[0;34m(*args, **kwargs)\u001B[0m\n\u001B[1;32m     67\u001B[0m         performance_warning(\n\u001B[1;32m     68\u001B[0m             \u001B[38;5;124mf\u001B[39m\u001B[38;5;124m\"\u001B[39m\u001B[38;5;124mThe failure rate of \u001B[39m\u001B[38;5;124m'\u001B[39m\u001B[38;5;132;01m{\u001B[39;00mfunc\u001B[38;5;241m.\u001B[39m\u001B[38;5;18m__qualname__\u001B[39m\u001B[38;5;132;01m}\u001B[39;00m\u001B[38;5;124m'\u001B[39m\u001B[38;5;124m is \u001B[39m\u001B[38;5;132;01m{\u001B[39;00m\u001B[38;5;241m100\u001B[39m\u001B[38;5;250m \u001B[39m\u001B[38;5;241m*\u001B[39m\u001B[38;5;250m \u001B[39mfailures\u001B[38;5;250m \u001B[39m\u001B[38;5;241m/\u001B[39m\u001B[38;5;250m \u001B[39mtotal\u001B[38;5;132;01m:\u001B[39;00m\u001B[38;5;124mg\u001B[39m\u001B[38;5;132;01m}\u001B[39;00m\u001B[38;5;124m% \u001B[39m\u001B[38;5;124m\"\u001B[39m\n\u001B[1;32m     69\u001B[0m             \u001B[38;5;241m+\u001B[39m \u001B[38;5;124mf\u001B[39m\u001B[38;5;124m\"\u001B[39m\u001B[38;5;124m(\u001B[39m\u001B[38;5;132;01m{\u001B[39;00msuccesses\u001B[38;5;132;01m:\u001B[39;00m\u001B[38;5;124m,\u001B[39m\u001B[38;5;132;01m}\u001B[39;00m\u001B[38;5;124m success\u001B[39m\u001B[38;5;132;01m{\u001B[39;00m\u001B[38;5;124m'\u001B[39m\u001B[38;5;124mes\u001B[39m\u001B[38;5;124m'\u001B[39m\u001B[38;5;250m \u001B[39m\u001B[38;5;28;01mif\u001B[39;00m\u001B[38;5;250m \u001B[39msuccesses\u001B[38;5;250m \u001B[39m\u001B[38;5;241m!=\u001B[39m\u001B[38;5;250m \u001B[39m\u001B[38;5;241m1\u001B[39m\u001B[38;5;250m \u001B[39m\u001B[38;5;28;01melse\u001B[39;00m\u001B[38;5;250m \u001B[39m\u001B[38;5;124m'\u001B[39m\u001B[38;5;124m'\u001B[39m\u001B[38;5;132;01m}\u001B[39;00m\u001B[38;5;124m out of \u001B[39m\u001B[38;5;132;01m{\u001B[39;00mtotal\u001B[38;5;132;01m:\u001B[39;00m\u001B[38;5;124m,\u001B[39m\u001B[38;5;132;01m}\u001B[39;00m\u001B[38;5;124m calls)\u001B[39m\u001B[38;5;124m\"\u001B[39m\n\u001B[1;32m     70\u001B[0m         )\n\u001B[1;32m     71\u001B[0m \u001B[38;5;28;01mif\u001B[39;00m exception:\n\u001B[0;32m---> 72\u001B[0m     \u001B[38;5;28;01mraise\u001B[39;00m exception\n\u001B[1;32m     73\u001B[0m \u001B[38;5;28;01melse\u001B[39;00m:\n\u001B[1;32m     74\u001B[0m     \u001B[38;5;28;01mreturn\u001B[39;00m result\n",
      "File \u001B[0;32m~/Repos/byron/byron/classes/monitor.py:54\u001B[0m, in \u001B[0;36mfailure_rate.<locals>.wrapper\u001B[0;34m(*args, **kwargs)\u001B[0m\n\u001B[1;32m     52\u001B[0m exception \u001B[38;5;241m=\u001B[39m \u001B[38;5;28;01mNone\u001B[39;00m\n\u001B[1;32m     53\u001B[0m \u001B[38;5;28;01mtry\u001B[39;00m:\n\u001B[0;32m---> 54\u001B[0m     result \u001B[38;5;241m=\u001B[39m \u001B[43mfunc\u001B[49m\u001B[43m(\u001B[49m\u001B[38;5;241;43m*\u001B[39;49m\u001B[43margs\u001B[49m\u001B[43m,\u001B[49m\u001B[43m \u001B[49m\u001B[38;5;241;43m*\u001B[39;49m\u001B[38;5;241;43m*\u001B[39;49m\u001B[43mkwargs\u001B[49m\u001B[43m)\u001B[49m\n\u001B[1;32m     55\u001B[0m \u001B[38;5;28;01mexcept\u001B[39;00m \u001B[38;5;167;01mException\u001B[39;00m \u001B[38;5;28;01mas\u001B[39;00m e:\n\u001B[1;32m     56\u001B[0m     result \u001B[38;5;241m=\u001B[39m \u001B[38;5;28;01mFalse\u001B[39;00m\n",
      "File \u001B[0;32m~/Repos/byron/byron/operators/unroll.py:68\u001B[0m, in \u001B[0;36munroll_individual\u001B[0;34m(individual, top)\u001B[0m\n\u001B[1;32m     66\u001B[0m     \u001B[38;5;28;01mreturn\u001B[39;00m \u001B[38;5;28;01mNone\u001B[39;00m\n\u001B[1;32m     67\u001B[0m G\u001B[38;5;241m.\u001B[39madd_edge(NODE_ZERO, new_node_reference\u001B[38;5;241m.\u001B[39mnode, _type\u001B[38;5;241m=\u001B[39mFRAMEWORK)\n\u001B[0;32m---> 68\u001B[0m \u001B[43minitialize_subtree\u001B[49m\u001B[43m(\u001B[49m\u001B[43mnew_node_reference\u001B[49m\u001B[43m)\u001B[49m\n\u001B[1;32m     70\u001B[0m \u001B[38;5;28;01mif\u001B[39;00m individual\u001B[38;5;241m.\u001B[39mvalid:\n\u001B[1;32m     71\u001B[0m     \u001B[38;5;28;01mreturn\u001B[39;00m new_node_reference\u001B[38;5;241m.\u001B[39mnode\n",
      "File \u001B[0;32m~/Repos/byron/byron/operators/unroll.py:89\u001B[0m, in \u001B[0;36minitialize_subtree\u001B[0;34m(node_reference)\u001B[0m\n\u001B[1;32m     87\u001B[0m \u001B[38;5;28;01mfor\u001B[39;00m p \u001B[38;5;129;01min\u001B[39;00m get_all_parameters(node_reference\u001B[38;5;241m.\u001B[39mgraph, node_reference\u001B[38;5;241m.\u001B[39mnode):\n\u001B[1;32m     88\u001B[0m     \u001B[38;5;28;01massert\u001B[39;00m p\u001B[38;5;241m.\u001B[39mvalue \u001B[38;5;129;01mis\u001B[39;00m \u001B[38;5;28;01mNone\u001B[39;00m, \u001B[38;5;124mf\u001B[39m\u001B[38;5;124m\"\u001B[39m\u001B[38;5;132;01m{\u001B[39;00mPARANOIA_VALUE_ERROR\u001B[38;5;132;01m}\u001B[39;00m\u001B[38;5;124m: \u001B[39m\u001B[38;5;132;01m{\u001B[39;00mp\u001B[38;5;132;01m}\u001B[39;00m\u001B[38;5;124m already initialized\u001B[39m\u001B[38;5;124m\"\u001B[39m\n\u001B[0;32m---> 89\u001B[0m     \u001B[43mp\u001B[49m\u001B[38;5;241;43m.\u001B[39;49m\u001B[43mmutate\u001B[49m\u001B[43m(\u001B[49m\u001B[38;5;241;43m1\u001B[39;49m\u001B[43m)\u001B[49m\n",
      "File \u001B[0;32m~/Repos/byron/byron/framework/parameter.py:65\u001B[0m, in \u001B[0;36m_numeric.<locals>.T.mutate\u001B[0;34m(self, strength)\u001B[0m\n\u001B[1;32m     63\u001B[0m \u001B[38;5;28;01mdef\u001B[39;00m \u001B[38;5;21mmutate\u001B[39m(\u001B[38;5;28mself\u001B[39m, strength: \u001B[38;5;28mfloat\u001B[39m \u001B[38;5;241m=\u001B[39m \u001B[38;5;241m1.0\u001B[39m) \u001B[38;5;241m-\u001B[39m\u001B[38;5;241m>\u001B[39m \u001B[38;5;28;01mNone\u001B[39;00m:\n\u001B[1;32m     64\u001B[0m     \u001B[38;5;28;01mif\u001B[39;00m strength \u001B[38;5;241m==\u001B[39m \u001B[38;5;241m1.0\u001B[39m:\n\u001B[0;32m---> 65\u001B[0m         \u001B[38;5;28;43mself\u001B[39;49m\u001B[38;5;241;43m.\u001B[39;49m\u001B[43mvalue\u001B[49m \u001B[38;5;241m=\u001B[39m rrandom\u001B[38;5;241m.\u001B[39msigma_randint(min_, max_)\n\u001B[1;32m     66\u001B[0m     \u001B[38;5;28;01melse\u001B[39;00m:\n\u001B[1;32m     67\u001B[0m         \u001B[38;5;28mself\u001B[39m\u001B[38;5;241m.\u001B[39mvalue \u001B[38;5;241m=\u001B[39m rrandom\u001B[38;5;241m.\u001B[39msigma_randint(min_, max_, loc\u001B[38;5;241m=\u001B[39m\u001B[38;5;28mself\u001B[39m\u001B[38;5;241m.\u001B[39m_value, strength\u001B[38;5;241m=\u001B[39mstrength)\n",
      "File \u001B[0;32m~/Repos/byron/byron/classes/parameter.py:79\u001B[0m, in \u001B[0;36mParameterABC.value\u001B[0;34m(self, new_value)\u001B[0m\n\u001B[1;32m     77\u001B[0m \u001B[38;5;129m@value\u001B[39m\u001B[38;5;241m.\u001B[39msetter\n\u001B[1;32m     78\u001B[0m \u001B[38;5;28;01mdef\u001B[39;00m \u001B[38;5;21mvalue\u001B[39m(\u001B[38;5;28mself\u001B[39m, new_value):\n\u001B[0;32m---> 79\u001B[0m     \u001B[38;5;28;01massert\u001B[39;00m \u001B[38;5;28mself\u001B[39m\u001B[38;5;241m.\u001B[39mis_correct(new_value), \u001B[38;5;124mf\u001B[39m\u001B[38;5;124m\"\u001B[39m\u001B[38;5;132;01m{\u001B[39;00mPARANOIA_VALUE_ERROR\u001B[38;5;132;01m}\u001B[39;00m\u001B[38;5;124m: invalid value: \u001B[39m\u001B[38;5;132;01m{\u001B[39;00mnew_value\u001B[38;5;132;01m}\u001B[39;00m\u001B[38;5;124m\"\u001B[39m\n\u001B[1;32m     80\u001B[0m     \u001B[38;5;28mself\u001B[39m\u001B[38;5;241m.\u001B[39m_value \u001B[38;5;241m=\u001B[39m new_value\n",
      "\u001B[0;31mAssertionError\u001B[0m: ValueError (paranoia check): invalid value: 32791"
     ]
    }
   ],
   "source": [
    "bunch = byron.f.bunch([macro_foo, macro_bar, macro_baz], size=20, weights=[10, 2, 1])\n",
    "byron.f.as_text(bunch)"
   ]
  },
  {
   "cell_type": "markdown",
   "id": "99493ca4-b273-4fdd-9e8c-24832d08263e",
   "metadata": {},
   "source": [
    "## Frames"
   ]
  },
  {
   "cell_type": "code",
   "execution_count": null,
   "id": "120399ab-91cd-47ed-8b8a-2b807949b5bb",
   "metadata": {
    "ExecuteTime": {
     "end_time": "2023-08-19T15:51:51.643093Z",
     "start_time": "2023-08-19T15:51:51.641537Z"
    }
   },
   "outputs": [],
   "source": [
    "all_foo = byron.f.bunch([macro_foo], size=3)\n",
    "all_bar = byron.f.bunch([macro_bar], size=3)\n",
    "mix = byron.f.bunch([macro_foo, macro_bar, macro_baz], size=(2, 5 + 1))"
   ]
  },
  {
   "cell_type": "markdown",
   "id": "3abd1ef3-ae96-4b44-a9d2-768fb5c3f6fd",
   "metadata": {},
   "source": [
    "### Sequences\n",
    "\n",
    "Create all frames in the sequence"
   ]
  },
  {
   "cell_type": "code",
   "execution_count": null,
   "id": "d5eec61e-421e-4038-aa58-5c50701032c0",
   "metadata": {
    "ExecuteTime": {
     "start_time": "2023-08-19T15:51:51.642998Z"
    }
   },
   "outputs": [],
   "source": [
    "seq = byron.f.sequence(['begin', all_foo, 'break', all_bar, 'end'])\n",
    "byron.f.as_text(seq)"
   ]
  },
  {
   "cell_type": "markdown",
   "source": [
    "Given the top frame, it is possible to visualize the forest with the syntactic structure (*as_forest*). **Note**: The text is the result of a [depth-first search](https://en.wikipedia.org/wiki/Depth-first_search) of the syntactic structure. \n",
    "\n",
    "It is also possible to visualize a frame as a, perhaps more intuitive, linear-genetic-programming genome (*as_lgp*) "
   ],
   "metadata": {
    "collapsed": false
   },
   "id": "d68f5694c78b287a"
  },
  {
   "cell_type": "code",
   "execution_count": null,
   "id": "90901902-113e-4418-900e-5800c35e86f8",
   "metadata": {
    "ExecuteTime": {
     "start_time": "2023-08-19T15:51:51.644185Z"
    }
   },
   "outputs": [],
   "source": [
    "byron.f.as_forest(seq)\n",
    "byron.f.as_lgp(seq)"
   ]
  },
  {
   "cell_type": "markdown",
   "id": "fd9a2c03-e63f-408f-874b-c9f333bb746d",
   "metadata": {},
   "source": [
    "### Alternatives\n",
    "\n",
    "Randomly chose a frame from the different alternatives"
   ]
  },
  {
   "cell_type": "code",
   "execution_count": null,
   "id": "8f750c39-3d1a-4b3f-aa6f-0f320dd85c79",
   "metadata": {
    "ExecuteTime": {
     "start_time": "2023-08-19T15:51:51.645343Z"
    }
   },
   "outputs": [],
   "source": [
    "alt = byron.f.alternative([macro_foo, macro_bar, all_foo, all_bar, 'dummy'])\n",
    "\n",
    "for n in range(5):\n",
    "    byron.f.as_text(alt, seed=n)"
   ]
  },
  {
   "cell_type": "markdown",
   "id": "2c6f1e34-0e4a-4a89-93ba-fa7ebdb370d7",
   "metadata": {},
   "source": [
    "### Nesting Sequences and Alternatives"
   ]
  },
  {
   "cell_type": "code",
   "execution_count": null,
   "id": "e810ebbe-d278-49e0-87b6-0112021328eb",
   "metadata": {
    "ExecuteTime": {
     "start_time": "2023-08-19T15:51:51.646348Z"
    }
   },
   "outputs": [],
   "source": [
    "all_foo = byron.f.bunch([macro_foo], size=3)\n",
    "all_bar = byron.f.bunch([macro_bar], size=3)\n",
    "sequence1 = byron.f.sequence(['; seq1 ----------------------', all_foo, all_bar])\n",
    "sequence2 = byron.f.sequence(['; seq2 ----------------------', all_bar, all_foo])\n",
    "alternative = byron.f.alternative([sequence1, sequence2])\n",
    "final_sequence = byron.f.sequence(\n",
    "    ['; sseq1 =====================', alternative, '; sseq2 =====================', alternative, alternative]\n",
    ")"
   ]
  },
  {
   "cell_type": "code",
   "execution_count": null,
   "id": "8e175bdc-ea99-4b8c-b901-4591f9e23411",
   "metadata": {
    "ExecuteTime": {
     "start_time": "2023-08-19T15:51:51.647452Z"
    }
   },
   "outputs": [],
   "source": [
    "byron.f.as_text(final_sequence)\n",
    "byron.f.as_forest(final_sequence)\n",
    "byron.f.as_lgp(final_sequence)"
   ]
  },
  {
   "cell_type": "markdown",
   "id": "ff3cb86a-fcb0-44e8-b076-c9b411809b2a",
   "metadata": {},
   "source": [
    "## Frame Names and String Magic\n",
    "\n",
    "It is possible to specify a (unique) user name for Frames. The name can then be used to specify the frame."
   ]
  },
  {
   "cell_type": "code",
   "execution_count": null,
   "id": "535a2c6f-664b-4b3f-84da-9ecdb6b48c9f",
   "metadata": {
    "ExecuteTime": {
     "start_time": "2023-08-19T15:51:51.648363Z"
    }
   },
   "outputs": [],
   "source": [
    "all_foo = byron.f.bunch([macro_foo], size=3, name='Foo')\n",
    "all_bar = byron.f.bunch([macro_bar], size=3, name='Bar')"
   ]
  },
  {
   "cell_type": "code",
   "execution_count": null,
   "id": "8a04fc03-2844-4194-9d8a-f9d64438b46a",
   "metadata": {
    "ExecuteTime": {
     "start_time": "2023-08-19T15:51:51.649266Z"
    }
   },
   "outputs": [],
   "source": [
    "all_foo == all_bar, all_foo == 'Foo', all_foo == 'Bar'"
   ]
  },
  {
   "cell_type": "code",
   "execution_count": null,
   "id": "7d4ea50e-4a25-450a-86b2-b68efc6eec8f",
   "metadata": {
    "ExecuteTime": {
     "start_time": "2023-08-19T15:51:51.650543Z"
    }
   },
   "outputs": [],
   "source": [
    "set([all_foo, 'Foo', 'Bar', all_bar])"
   ]
  },
  {
   "cell_type": "code",
   "execution_count": null,
   "id": "eadbf872-980c-4ae4-bd51-2e499c996102",
   "metadata": {
    "ExecuteTime": {
     "start_time": "2023-08-19T15:51:51.651481Z"
    }
   },
   "outputs": [],
   "source": []
  }
 ],
 "metadata": {
  "kernelspec": {
   "display_name": "Python 3 (ipykernel)",
   "language": "python",
   "name": "python3"
  },
  "language_info": {
   "codemirror_mode": {
    "name": "ipython",
    "version": 3
   },
   "file_extension": ".py",
   "mimetype": "text/x-python",
   "name": "python",
   "nbconvert_exporter": "python",
   "pygments_lexer": "ipython3",
   "version": "3.11.4"
  }
 },
 "nbformat": 4,
 "nbformat_minor": 5
}
