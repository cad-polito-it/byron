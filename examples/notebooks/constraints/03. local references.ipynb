{
 "cells": [
  {
   "cell_type": "markdown",
   "id": "257e30e7-d722-4672-9ac9-8fe769cfcf2b",
   "metadata": {},
   "source": [
    "This notebook is part of [**Byron v0.1**](https://github.com/cad-polito-it/byron)  \n",
    "Copyright 2023 Giovanni Squillero and Alberto Tonda  \n",
    "SPDX-License-Identifier: [Apache-2.0](https://www.tldrlegal.com/license/apache-license-2-0-apache-2-0) "
   ]
  },
  {
   "cell_type": "code",
   "execution_count": 1,
   "id": "a011ff81-bfd5-48be-a8f4-df8051ffbb6e",
   "metadata": {
    "ExecuteTime": {
     "end_time": "2023-08-19T15:51:54.694332Z",
     "start_time": "2023-08-19T15:51:53.850149Z"
    }
   },
   "outputs": [
    {
     "name": "stderr",
     "output_type": "stream",
     "text": [
      "/var/folders/31/dkl97hks2c14b663vl55pt440000gn/T/ipykernel_12240/1429530752.py:1: ByronPerformanceWarning: \n",
      "  Paranoia checks are enabled in this notebook: performances can be significantly impaired\n",
      "  [see https://github.com/cad-polito-it/byron/blob/pre-alpha/docs/paranoia.md for details]\n",
      "  import byron\n"
     ]
    }
   ],
   "source": [
    "import byron"
   ]
  },
  {
   "cell_type": "markdown",
   "id": "8bffc227-b4ac-4b12-9fe5-9a0144fa5d7f",
   "metadata": {},
   "source": [
    "Everything for the definition of the constraints (the old \"instruction library\") is under the namespace `byron.framework` (lazy fingers can use `byron.f`)"
   ]
  },
  {
   "cell_type": "markdown",
   "id": "60fc521d-2f5f-4e2e-9491-8da812aa8f97",
   "metadata": {},
   "source": [
    "# Local References"
   ]
  },
  {
   "cell_type": "code",
   "execution_count": 2,
   "id": "a5289f40-46d8-4e67-a785-49d06be6847c",
   "metadata": {
    "ExecuteTime": {
     "end_time": "2023-08-19T15:51:54.694516Z",
     "start_time": "2023-08-19T15:51:54.690976Z"
    }
   },
   "outputs": [],
   "source": [
    "macro_foo = byron.f.macro('foo #{num:04x}', num=byron.f.integer_parameter(0, 2**16))\n",
    "macro_bar = byron.f.macro('bar {num:+0.3e}', num=byron.f.float_parameter(-1, 1))"
   ]
  },
  {
   "cell_type": "markdown",
   "id": "35a35f99-1073-4ff8-adad-43c4110d4127",
   "metadata": {},
   "source": [
    "Local references are inside the same macro bunch."
   ]
  },
  {
   "cell_type": "code",
   "execution_count": 3,
   "id": "572cd190-9b17-42cc-91ab-3bacb08a34d9",
   "metadata": {
    "ExecuteTime": {
     "end_time": "2023-08-19T15:51:54.704659Z",
     "start_time": "2023-08-19T15:51:54.695841Z"
    }
   },
   "outputs": [
    {
     "data": {
      "text/plain": "byron.parameter.LocalReference[<≠>]"
     },
     "execution_count": 3,
     "metadata": {},
     "output_type": "execute_result"
    }
   ],
   "source": [
    "local_ref = byron.f.local_reference(backward=True, loop=False, forward=True)\n",
    "local_ref"
   ]
  },
  {
   "cell_type": "code",
   "execution_count": 4,
   "id": "b3f5a0fa-a157-4af3-a2f6-14d63924edc8",
   "metadata": {
    "ExecuteTime": {
     "end_time": "2023-08-19T15:51:54.704844Z",
     "start_time": "2023-08-19T15:51:54.699580Z"
    }
   },
   "outputs": [],
   "source": [
    "macro_jmp = byron.f.macro('jmp {target}', target=local_ref)\n",
    "bunch = byron.f.bunch([macro_foo, macro_bar, macro_jmp], size=10)"
   ]
  },
  {
   "cell_type": "code",
   "execution_count": 5,
   "id": "a3cfab62-dd8d-49e0-a591-9b4a00cf312a",
   "metadata": {
    "ExecuteTime": {
     "end_time": "2023-08-19T15:51:54.917902Z",
     "start_time": "2023-08-19T15:51:54.705046Z"
    }
   },
   "outputs": [
    {
     "ename": "AssertionError",
     "evalue": "ValueError (paranoia check): invalid value: 34503",
     "output_type": "error",
     "traceback": [
      "\u001B[0;31m---------------------------------------------------------------------------\u001B[0m",
      "\u001B[0;31mAssertionError\u001B[0m                            Traceback (most recent call last)",
      "Cell \u001B[0;32mIn[5], line 1\u001B[0m\n\u001B[0;32m----> 1\u001B[0m \u001B[43mbyron\u001B[49m\u001B[38;5;241;43m.\u001B[39;49m\u001B[43mf\u001B[49m\u001B[38;5;241;43m.\u001B[39;49m\u001B[43mas_text\u001B[49m\u001B[43m(\u001B[49m\u001B[43mbunch\u001B[49m\u001B[43m)\u001B[49m\n\u001B[1;32m      2\u001B[0m byron\u001B[38;5;241m.\u001B[39mf\u001B[38;5;241m.\u001B[39mas_forest(bunch)\n\u001B[1;32m      3\u001B[0m byron\u001B[38;5;241m.\u001B[39mf\u001B[38;5;241m.\u001B[39mas_lgp(bunch)\n",
      "File \u001B[0;32m~/Repos/byron/byron/framework/show_element.py:74\u001B[0m, in \u001B[0;36mas_text\u001B[0;34m(element, seed, node_info, extra_parameters)\u001B[0m\n\u001B[1;32m     72\u001B[0m \u001B[38;5;28;01melse\u001B[39;00m:\n\u001B[1;32m     73\u001B[0m     \u001B[38;5;28;01mraise\u001B[39;00m \u001B[38;5;167;01mNotImplementedError\u001B[39;00m(\u001B[38;5;124mf\u001B[39m\u001B[38;5;124m\"\u001B[39m\u001B[38;5;132;01m{\u001B[39;00m\u001B[38;5;18m__name__\u001B[39m\u001B[38;5;132;01m}\u001B[39;00m\u001B[38;5;124m.as_text(\u001B[39m\u001B[38;5;132;01m{\u001B[39;00melement\u001B[38;5;132;01m!r}\u001B[39;00m\u001B[38;5;124m)\u001B[39m\u001B[38;5;124m\"\u001B[39m)\n\u001B[0;32m---> 74\u001B[0m individual \u001B[38;5;241m=\u001B[39m \u001B[43m_generate_random_individual\u001B[49m\u001B[43m(\u001B[49m\u001B[43mframe\u001B[49m\u001B[43m,\u001B[49m\u001B[43m \u001B[49m\u001B[43mseed\u001B[49m\u001B[38;5;241;43m=\u001B[39;49m\u001B[43mseed\u001B[49m\u001B[43m)\u001B[49m\n\u001B[1;32m     76\u001B[0m \u001B[38;5;28;01mif\u001B[39;00m extra_parameters \u001B[38;5;129;01mis\u001B[39;00m \u001B[38;5;28;01mNone\u001B[39;00m:\n\u001B[1;32m     77\u001B[0m     extra_parameters \u001B[38;5;241m=\u001B[39m \u001B[38;5;28mdict\u001B[39m()\n",
      "File \u001B[0;32m~/Repos/byron/byron/framework/show_element.py:129\u001B[0m, in \u001B[0;36m_generate_random_individual\u001B[0;34m(frame, seed)\u001B[0m\n\u001B[1;32m    127\u001B[0m random_individuals \u001B[38;5;241m=\u001B[39m []\n\u001B[1;32m    128\u001B[0m \u001B[38;5;28;01mwhile\u001B[39;00m \u001B[38;5;129;01mnot\u001B[39;00m random_individuals:\n\u001B[0;32m--> 129\u001B[0m     random_individuals \u001B[38;5;241m=\u001B[39m \u001B[43mrandom_individual\u001B[49m\u001B[43m(\u001B[49m\u001B[43mframe\u001B[49m\u001B[43m)\u001B[49m\n\u001B[1;32m    130\u001B[0m random_individuals[\u001B[38;5;241m0\u001B[39m]\u001B[38;5;241m.\u001B[39mgenome\u001B[38;5;241m.\u001B[39mnodes[NODE_ZERO][\u001B[38;5;124m'\u001B[39m\u001B[38;5;124m$omit_from_dump\u001B[39m\u001B[38;5;124m'\u001B[39m] \u001B[38;5;241m=\u001B[39m \u001B[38;5;28;01mTrue\u001B[39;00m\n\u001B[1;32m    132\u001B[0m rrandom\u001B[38;5;241m.\u001B[39mstate \u001B[38;5;241m=\u001B[39m rrandom_state\n",
      "File \u001B[0;32m~/Repos/byron/byron/registry.py:163\u001B[0m, in \u001B[0;36mgenetic_operator.<locals>.decorator.<locals>.wrapper\u001B[0;34m(*args, **kwargs)\u001B[0m\n\u001B[1;32m    161\u001B[0m wrapper\u001B[38;5;241m.\u001B[39mstats\u001B[38;5;241m.\u001B[39mcalls \u001B[38;5;241m+\u001B[39m\u001B[38;5;241m=\u001B[39m \u001B[38;5;241m1\u001B[39m\n\u001B[1;32m    162\u001B[0m \u001B[38;5;28;01mtry\u001B[39;00m:\n\u001B[0;32m--> 163\u001B[0m     offspring \u001B[38;5;241m=\u001B[39m \u001B[43mfunc\u001B[49m\u001B[43m(\u001B[49m\u001B[38;5;241;43m*\u001B[39;49m\u001B[43margs\u001B[49m\u001B[43m,\u001B[49m\u001B[43m \u001B[49m\u001B[38;5;241;43m*\u001B[39;49m\u001B[38;5;241;43m*\u001B[39;49m\u001B[43mkwargs\u001B[49m\u001B[43m)\u001B[49m\n\u001B[1;32m    164\u001B[0m \u001B[38;5;28;01mexcept\u001B[39;00m ByronOperatorFailure:\n\u001B[1;32m    165\u001B[0m     offspring \u001B[38;5;241m=\u001B[39m \u001B[38;5;28mlist\u001B[39m()\n",
      "File \u001B[0;32m~/Repos/byron/byron/operators/initializers.py:44\u001B[0m, in \u001B[0;36mrandom_individual\u001B[0;34m(top_frame)\u001B[0m\n\u001B[1;32m     42\u001B[0m new_individual \u001B[38;5;241m=\u001B[39m Individual(top_frame)\n\u001B[1;32m     43\u001B[0m \u001B[38;5;28;01mtry\u001B[39;00m:\n\u001B[0;32m---> 44\u001B[0m     new_root \u001B[38;5;241m=\u001B[39m \u001B[43munroll_individual\u001B[49m\u001B[43m(\u001B[49m\u001B[43mnew_individual\u001B[49m\u001B[43m,\u001B[49m\u001B[43m \u001B[49m\u001B[43mtop_frame\u001B[49m\u001B[43m)\u001B[49m\n\u001B[1;32m     45\u001B[0m \u001B[38;5;28;01mexcept\u001B[39;00m ByronOperatorFailure:\n\u001B[1;32m     46\u001B[0m     new_root \u001B[38;5;241m=\u001B[39m \u001B[38;5;28;01mNone\u001B[39;00m\n",
      "File \u001B[0;32m~/Repos/byron/byron/classes/monitor.py:72\u001B[0m, in \u001B[0;36mfailure_rate.<locals>.wrapper\u001B[0;34m(*args, **kwargs)\u001B[0m\n\u001B[1;32m     67\u001B[0m         performance_warning(\n\u001B[1;32m     68\u001B[0m             \u001B[38;5;124mf\u001B[39m\u001B[38;5;124m\"\u001B[39m\u001B[38;5;124mThe failure rate of \u001B[39m\u001B[38;5;124m'\u001B[39m\u001B[38;5;132;01m{\u001B[39;00mfunc\u001B[38;5;241m.\u001B[39m\u001B[38;5;18m__qualname__\u001B[39m\u001B[38;5;132;01m}\u001B[39;00m\u001B[38;5;124m'\u001B[39m\u001B[38;5;124m is \u001B[39m\u001B[38;5;132;01m{\u001B[39;00m\u001B[38;5;241m100\u001B[39m\u001B[38;5;250m \u001B[39m\u001B[38;5;241m*\u001B[39m\u001B[38;5;250m \u001B[39mfailures\u001B[38;5;250m \u001B[39m\u001B[38;5;241m/\u001B[39m\u001B[38;5;250m \u001B[39mtotal\u001B[38;5;132;01m:\u001B[39;00m\u001B[38;5;124mg\u001B[39m\u001B[38;5;132;01m}\u001B[39;00m\u001B[38;5;124m% \u001B[39m\u001B[38;5;124m\"\u001B[39m\n\u001B[1;32m     69\u001B[0m             \u001B[38;5;241m+\u001B[39m \u001B[38;5;124mf\u001B[39m\u001B[38;5;124m\"\u001B[39m\u001B[38;5;124m(\u001B[39m\u001B[38;5;132;01m{\u001B[39;00msuccesses\u001B[38;5;132;01m:\u001B[39;00m\u001B[38;5;124m,\u001B[39m\u001B[38;5;132;01m}\u001B[39;00m\u001B[38;5;124m success\u001B[39m\u001B[38;5;132;01m{\u001B[39;00m\u001B[38;5;124m'\u001B[39m\u001B[38;5;124mes\u001B[39m\u001B[38;5;124m'\u001B[39m\u001B[38;5;250m \u001B[39m\u001B[38;5;28;01mif\u001B[39;00m\u001B[38;5;250m \u001B[39msuccesses\u001B[38;5;250m \u001B[39m\u001B[38;5;241m!=\u001B[39m\u001B[38;5;250m \u001B[39m\u001B[38;5;241m1\u001B[39m\u001B[38;5;250m \u001B[39m\u001B[38;5;28;01melse\u001B[39;00m\u001B[38;5;250m \u001B[39m\u001B[38;5;124m'\u001B[39m\u001B[38;5;124m'\u001B[39m\u001B[38;5;132;01m}\u001B[39;00m\u001B[38;5;124m out of \u001B[39m\u001B[38;5;132;01m{\u001B[39;00mtotal\u001B[38;5;132;01m:\u001B[39;00m\u001B[38;5;124m,\u001B[39m\u001B[38;5;132;01m}\u001B[39;00m\u001B[38;5;124m calls)\u001B[39m\u001B[38;5;124m\"\u001B[39m\n\u001B[1;32m     70\u001B[0m         )\n\u001B[1;32m     71\u001B[0m \u001B[38;5;28;01mif\u001B[39;00m exception:\n\u001B[0;32m---> 72\u001B[0m     \u001B[38;5;28;01mraise\u001B[39;00m exception\n\u001B[1;32m     73\u001B[0m \u001B[38;5;28;01melse\u001B[39;00m:\n\u001B[1;32m     74\u001B[0m     \u001B[38;5;28;01mreturn\u001B[39;00m result\n",
      "File \u001B[0;32m~/Repos/byron/byron/classes/monitor.py:54\u001B[0m, in \u001B[0;36mfailure_rate.<locals>.wrapper\u001B[0;34m(*args, **kwargs)\u001B[0m\n\u001B[1;32m     52\u001B[0m exception \u001B[38;5;241m=\u001B[39m \u001B[38;5;28;01mNone\u001B[39;00m\n\u001B[1;32m     53\u001B[0m \u001B[38;5;28;01mtry\u001B[39;00m:\n\u001B[0;32m---> 54\u001B[0m     result \u001B[38;5;241m=\u001B[39m \u001B[43mfunc\u001B[49m\u001B[43m(\u001B[49m\u001B[38;5;241;43m*\u001B[39;49m\u001B[43margs\u001B[49m\u001B[43m,\u001B[49m\u001B[43m \u001B[49m\u001B[38;5;241;43m*\u001B[39;49m\u001B[38;5;241;43m*\u001B[39;49m\u001B[43mkwargs\u001B[49m\u001B[43m)\u001B[49m\n\u001B[1;32m     55\u001B[0m \u001B[38;5;28;01mexcept\u001B[39;00m \u001B[38;5;167;01mException\u001B[39;00m \u001B[38;5;28;01mas\u001B[39;00m e:\n\u001B[1;32m     56\u001B[0m     result \u001B[38;5;241m=\u001B[39m \u001B[38;5;28;01mFalse\u001B[39;00m\n",
      "File \u001B[0;32m~/Repos/byron/byron/operators/unroll.py:68\u001B[0m, in \u001B[0;36munroll_individual\u001B[0;34m(individual, top)\u001B[0m\n\u001B[1;32m     66\u001B[0m     \u001B[38;5;28;01mreturn\u001B[39;00m \u001B[38;5;28;01mNone\u001B[39;00m\n\u001B[1;32m     67\u001B[0m G\u001B[38;5;241m.\u001B[39madd_edge(NODE_ZERO, new_node_reference\u001B[38;5;241m.\u001B[39mnode, _type\u001B[38;5;241m=\u001B[39mFRAMEWORK)\n\u001B[0;32m---> 68\u001B[0m \u001B[43minitialize_subtree\u001B[49m\u001B[43m(\u001B[49m\u001B[43mnew_node_reference\u001B[49m\u001B[43m)\u001B[49m\n\u001B[1;32m     70\u001B[0m \u001B[38;5;28;01mif\u001B[39;00m individual\u001B[38;5;241m.\u001B[39mvalid:\n\u001B[1;32m     71\u001B[0m     \u001B[38;5;28;01mreturn\u001B[39;00m new_node_reference\u001B[38;5;241m.\u001B[39mnode\n",
      "File \u001B[0;32m~/Repos/byron/byron/operators/unroll.py:89\u001B[0m, in \u001B[0;36minitialize_subtree\u001B[0;34m(node_reference)\u001B[0m\n\u001B[1;32m     87\u001B[0m \u001B[38;5;28;01mfor\u001B[39;00m p \u001B[38;5;129;01min\u001B[39;00m get_all_parameters(node_reference\u001B[38;5;241m.\u001B[39mgraph, node_reference\u001B[38;5;241m.\u001B[39mnode):\n\u001B[1;32m     88\u001B[0m     \u001B[38;5;28;01massert\u001B[39;00m p\u001B[38;5;241m.\u001B[39mvalue \u001B[38;5;129;01mis\u001B[39;00m \u001B[38;5;28;01mNone\u001B[39;00m, \u001B[38;5;124mf\u001B[39m\u001B[38;5;124m\"\u001B[39m\u001B[38;5;132;01m{\u001B[39;00mPARANOIA_VALUE_ERROR\u001B[38;5;132;01m}\u001B[39;00m\u001B[38;5;124m: \u001B[39m\u001B[38;5;132;01m{\u001B[39;00mp\u001B[38;5;132;01m}\u001B[39;00m\u001B[38;5;124m already initialized\u001B[39m\u001B[38;5;124m\"\u001B[39m\n\u001B[0;32m---> 89\u001B[0m     \u001B[43mp\u001B[49m\u001B[38;5;241;43m.\u001B[39;49m\u001B[43mmutate\u001B[49m\u001B[43m(\u001B[49m\u001B[38;5;241;43m1\u001B[39;49m\u001B[43m)\u001B[49m\n",
      "File \u001B[0;32m~/Repos/byron/byron/framework/parameter.py:65\u001B[0m, in \u001B[0;36m_numeric.<locals>.T.mutate\u001B[0;34m(self, strength)\u001B[0m\n\u001B[1;32m     63\u001B[0m \u001B[38;5;28;01mdef\u001B[39;00m \u001B[38;5;21mmutate\u001B[39m(\u001B[38;5;28mself\u001B[39m, strength: \u001B[38;5;28mfloat\u001B[39m \u001B[38;5;241m=\u001B[39m \u001B[38;5;241m1.0\u001B[39m) \u001B[38;5;241m-\u001B[39m\u001B[38;5;241m>\u001B[39m \u001B[38;5;28;01mNone\u001B[39;00m:\n\u001B[1;32m     64\u001B[0m     \u001B[38;5;28;01mif\u001B[39;00m strength \u001B[38;5;241m==\u001B[39m \u001B[38;5;241m1.0\u001B[39m:\n\u001B[0;32m---> 65\u001B[0m         \u001B[38;5;28;43mself\u001B[39;49m\u001B[38;5;241;43m.\u001B[39;49m\u001B[43mvalue\u001B[49m \u001B[38;5;241m=\u001B[39m rrandom\u001B[38;5;241m.\u001B[39msigma_randint(min_, max_)\n\u001B[1;32m     66\u001B[0m     \u001B[38;5;28;01melse\u001B[39;00m:\n\u001B[1;32m     67\u001B[0m         \u001B[38;5;28mself\u001B[39m\u001B[38;5;241m.\u001B[39mvalue \u001B[38;5;241m=\u001B[39m rrandom\u001B[38;5;241m.\u001B[39msigma_randint(min_, max_, loc\u001B[38;5;241m=\u001B[39m\u001B[38;5;28mself\u001B[39m\u001B[38;5;241m.\u001B[39m_value, strength\u001B[38;5;241m=\u001B[39mstrength)\n",
      "File \u001B[0;32m~/Repos/byron/byron/classes/parameter.py:79\u001B[0m, in \u001B[0;36mParameterABC.value\u001B[0;34m(self, new_value)\u001B[0m\n\u001B[1;32m     77\u001B[0m \u001B[38;5;129m@value\u001B[39m\u001B[38;5;241m.\u001B[39msetter\n\u001B[1;32m     78\u001B[0m \u001B[38;5;28;01mdef\u001B[39;00m \u001B[38;5;21mvalue\u001B[39m(\u001B[38;5;28mself\u001B[39m, new_value):\n\u001B[0;32m---> 79\u001B[0m     \u001B[38;5;28;01massert\u001B[39;00m \u001B[38;5;28mself\u001B[39m\u001B[38;5;241m.\u001B[39mis_correct(new_value), \u001B[38;5;124mf\u001B[39m\u001B[38;5;124m\"\u001B[39m\u001B[38;5;132;01m{\u001B[39;00mPARANOIA_VALUE_ERROR\u001B[38;5;132;01m}\u001B[39;00m\u001B[38;5;124m: invalid value: \u001B[39m\u001B[38;5;132;01m{\u001B[39;00mnew_value\u001B[38;5;132;01m}\u001B[39;00m\u001B[38;5;124m\"\u001B[39m\n\u001B[1;32m     80\u001B[0m     \u001B[38;5;28mself\u001B[39m\u001B[38;5;241m.\u001B[39m_value \u001B[38;5;241m=\u001B[39m new_value\n",
      "\u001B[0;31mAssertionError\u001B[0m: ValueError (paranoia check): invalid value: 34503"
     ]
    }
   ],
   "source": [
    "byron.f.as_text(bunch)\n",
    "byron.f.as_forest(bunch)\n",
    "byron.f.as_lgp(bunch)"
   ]
  },
  {
   "cell_type": "markdown",
   "id": "6e710bf3-7633-481b-9ae7-122eef90940c",
   "metadata": {},
   "source": [
    "## Label format\n",
    "\n",
    "By default, if a node is the target of a reference, the `_label` is printed pefore it. The default is `{_node}:\\n`, but it may be tweaked in different ways."
   ]
  },
  {
   "cell_type": "code",
   "execution_count": null,
   "id": "c55b8bdd-ecba-463d-8ad4-4624fd8a5e5b",
   "metadata": {
    "ExecuteTime": {
     "end_time": "2023-08-19T15:51:54.918774Z",
     "start_time": "2023-08-19T15:51:54.918398Z"
    }
   },
   "outputs": [],
   "source": [
    "byron.f.as_text(byron.f.bunch([macro_foo, macro_bar, macro_jmp], size=5))"
   ]
  },
  {
   "cell_type": "code",
   "execution_count": null,
   "id": "14dd6e13-c692-4fa8-b409-22123757152c",
   "metadata": {
    "ExecuteTime": {
     "start_time": "2023-08-19T15:51:54.919522Z"
    }
   },
   "outputs": [],
   "source": [
    "byron.f.as_text(byron.f.bunch([macro_foo, macro_bar, macro_jmp], size=5, extra_parameters={'_label': '<<{_node}>> '}))"
   ]
  },
  {
   "cell_type": "markdown",
   "id": "dd459c0a-378c-467b-b479-90b35b3f1cfe",
   "metadata": {},
   "source": [
    "The extra parameters defined in a frame are valid for all successor frames in the syntactic tree"
   ]
  },
  {
   "cell_type": "code",
   "execution_count": null,
   "id": "99aa7979-266c-4ed9-84cf-3004f1680b59",
   "metadata": {
    "ExecuteTime": {
     "end_time": "2023-08-19T15:51:54.929130Z",
     "start_time": "2023-08-19T15:51:54.920498Z"
    }
   },
   "outputs": [],
   "source": [
    "loop = byron.f.macro('loop {me}', me=byron.f.local_reference(backward=False, forward=False))\n",
    "seq1 = byron.f.sequence([loop, loop, loop])\n",
    "seq2 = byron.f.sequence([seq1, seq1])\n",
    "custom = byron.f.sequence([seq2], extra_parameters={'_label': '<<<<{_node}>>>:\\n'})\n",
    "seq3 = byron.f.sequence([seq2, '; =====================', custom, '; =====================', seq2])\n",
    "byron.f.as_text(seq3)\n",
    "byron.f.as_forest(seq3)"
   ]
  },
  {
   "cell_type": "code",
   "execution_count": null,
   "id": "d8f742fc-a387-4c2c-abdf-642f35e85502",
   "metadata": {
    "ExecuteTime": {
     "start_time": "2023-08-19T15:51:54.921444Z"
    }
   },
   "outputs": [],
   "source": []
  }
 ],
 "metadata": {
  "kernelspec": {
   "display_name": "Python 3 (ipykernel)",
   "language": "python",
   "name": "python3"
  },
  "language_info": {
   "codemirror_mode": {
    "name": "ipython",
    "version": 3
   },
   "file_extension": ".py",
   "mimetype": "text/x-python",
   "name": "python",
   "nbconvert_exporter": "python",
   "pygments_lexer": "ipython3",
   "version": "3.11.4"
  }
 },
 "nbformat": 4,
 "nbformat_minor": 5
}
