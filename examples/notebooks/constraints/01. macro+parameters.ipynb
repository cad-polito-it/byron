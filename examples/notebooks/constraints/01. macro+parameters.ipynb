{
 "cells": [
  {
   "cell_type": "markdown",
   "id": "257e30e7-d722-4672-9ac9-8fe769cfcf2b",
   "metadata": {},
   "source": [
    "This notebook is part of [**Byron v0.1**](https://github.com/cad-polito-it/byron)  \n",
    "Copyright 2023 Giovanni Squillero and Alberto Tonda  \n",
    "SPDX-License-Identifier: [Apache-2.0](https://www.tldrlegal.com/license/apache-license-2-0-apache-2-0) "
   ]
  },
  {
   "cell_type": "markdown",
   "id": "0d0bb326-f4dd-4bd0-908d-262beb944b7b",
   "metadata": {},
   "source": [
    "# Macros & Parameters"
   ]
  },
  {
   "cell_type": "code",
   "execution_count": 1,
   "id": "a011ff81-bfd5-48be-a8f4-df8051ffbb6e",
   "metadata": {
    "ExecuteTime": {
     "end_time": "2023-08-20T12:43:08.666986Z",
     "start_time": "2023-08-20T12:43:07.720714Z"
    }
   },
   "outputs": [
    {
     "name": "stderr",
     "output_type": "stream",
     "text": [
      "/var/folders/31/dkl97hks2c14b663vl55pt440000gn/T/ipykernel_34929/1429530752.py:1: ByronPerformanceWarning: \n",
      "  Paranoia checks are enabled in this notebook: performances can be significantly impaired\n",
      "  [see https://github.com/cad-polito-it/byron/blob/pre-alpha/docs/paranoia.md for details]\n",
      "  import byron\n"
     ]
    }
   ],
   "source": [
    "import byron"
   ]
  },
  {
   "cell_type": "markdown",
   "id": "59a82ef9-dda8-4838-9ea7-88323c7244d1",
   "metadata": {},
   "source": [
    "Everything for the definition of the constraints (the old \"instruction library\") is under the namespace `byron.framework` (lazy fingers can use `byron.f`)"
   ]
  },
  {
   "cell_type": "markdown",
   "id": "6b0a3e5c-480b-42e3-a0a3-5e3a9920f616",
   "metadata": {},
   "source": [
    "## Parameters"
   ]
  },
  {
   "cell_type": "code",
   "execution_count": 2,
   "id": "15e5f3df-f352-431e-950a-443b44b41ea8",
   "metadata": {
    "ExecuteTime": {
     "end_time": "2023-08-20T12:43:08.670915Z",
     "start_time": "2023-08-20T12:43:08.669262Z"
    }
   },
   "outputs": [],
   "source": [
    "import math\n",
    "\n",
    "byte = byron.f.integer_parameter(0, 2 ** 8)\n",
    "almost_pi = byron.f.float_parameter(21 * math.sin(math.pi / 21), 42 * math.tan(math.pi / 42))\n",
    "register = byron.f.choice_parameter(['ax', 'bx', 'cx', 'dx'])\n",
    "bitmask = byron.f.array_parameter(\"01-\", 32)"
   ]
  },
  {
   "cell_type": "markdown",
   "id": "c3745bfe-5ed2-426e-b4be-8580ece0f39f",
   "metadata": {},
   "source": [
    "Parameters are *types* (classes), that is, all the above functions are technically *factories*. "
   ]
  },
  {
   "cell_type": "code",
   "execution_count": 3,
   "id": "ffa85e6a-9517-4028-9f1e-cff8a3e33e73",
   "metadata": {
    "ExecuteTime": {
     "end_time": "2023-08-20T12:43:08.680465Z",
     "start_time": "2023-08-20T12:43:08.671328Z"
    }
   },
   "outputs": [
    {
     "data": {
      "text/plain": "byron.parameter.Int[8bit]"
     },
     "execution_count": 3,
     "metadata": {},
     "output_type": "execute_result"
    }
   ],
   "source": [
    "byte"
   ]
  },
  {
   "cell_type": "markdown",
   "id": "7f62203a-98ab-4cfd-beee-f47ed568f9d2",
   "metadata": {},
   "source": [
    "Parameters are used by Byron to create objects (*instances*). The initial (non initialized) value of these objects is always `None`; parameter instances are initialized with the first mutation and then, possibly, mutated again.\n",
    "\n",
    "**Notez bien:** Users do not need to use *parameters* directly. "
   ]
  },
  {
   "cell_type": "code",
   "execution_count": 4,
   "id": "8be62203-0b00-4369-b061-96cdc93c40ca",
   "metadata": {
    "ExecuteTime": {
     "end_time": "2023-08-20T12:43:08.683502Z",
     "start_time": "2023-08-20T12:43:08.682046Z"
    }
   },
   "outputs": [
    {
     "name": "stdout",
     "output_type": "stream",
     "text": [
      "<byron.parameter.Int[8bit] object at 0x134dca450> :: None -> 198\n",
      "<byron.parameter.Float[3.1298875896996634–3.1474648808016528) object at 0x134dbc710> :: None -> 3.137601883793572\n",
      "<byron.parameter.Choice[ax┊bx┊cx┊dx] object at 0x134dca710> :: None -> 'dx'\n",
      "<byron.parameter.Array[-01ｘ32] object at 0x134dbc350> :: None -> '1-111-001010-0-1010111-0--111-00'\n"
     ]
    }
   ],
   "source": [
    "for param in [byte, almost_pi, register, bitmask]:\n",
    "    obj = param()\n",
    "    initial_value = obj.value\n",
    "    obj.mutate()\n",
    "    value = obj.value\n",
    "    print(f\"{obj!r} :: {initial_value!r} -> {value!r}\")"
   ]
  },
  {
   "cell_type": "markdown",
   "id": "bfff4609-522c-42eb-8edd-595f4b186804",
   "metadata": {},
   "source": [
    "Instances of `byron.parameter` can be printed using f-string [syntax](https://docs.python.org/3/reference/lexical_analysis.html#f-strings)"
   ]
  },
  {
   "cell_type": "code",
   "execution_count": 5,
   "id": "6c702e3e-5754-4a26-8ce5-77141e41d431",
   "metadata": {
    "ExecuteTime": {
     "end_time": "2023-08-20T12:43:08.718910Z",
     "start_time": "2023-08-20T12:43:08.685518Z"
    }
   },
   "outputs": [
    {
     "name": "stdout",
     "output_type": "stream",
     "text": [
      "Default: 48\n",
      "Repr: <byron.parameter.Int[8bit] object at 0x134dcb790>\n",
      "Binary (16bit): 0000000000110000\n",
      "Octal: 60\n",
      "#Hex: 0x30\n"
     ]
    }
   ],
   "source": [
    "num = byte()\n",
    "num.mutate()\n",
    "print(f\"Default: {num}\\nRepr: {num!r}\\nBinary (16bit): {num:016b}\\nOctal: {num:o}\\n#Hex: {num:#x}\")"
   ]
  },
  {
   "cell_type": "markdown",
   "source": [
    "The type of a parameter and some sample values may be visualized using *as_text*"
   ],
   "metadata": {
    "collapsed": false
   },
   "id": "ad8a17b40dccd813"
  },
  {
   "cell_type": "code",
   "execution_count": 6,
   "outputs": [
    {
     "name": "stdout",
     "output_type": "stream",
     "text": [
      "<class 'byron.parameter.Int[-128..127]'>\n",
      "• 70\n",
      "• -16\n",
      "• 91\n",
      "• 50\n",
      "• -104\n",
      "• 121\n",
      "• 66\n",
      "• 73\n",
      "\n"
     ]
    }
   ],
   "source": [
    "bitmask = byron.f.integer_parameter(-128, 128)\n",
    "byron.f.as_text(bitmask)"
   ],
   "metadata": {
    "collapsed": false,
    "ExecuteTime": {
     "end_time": "2023-08-20T12:43:08.725376Z",
     "start_time": "2023-08-20T12:43:08.688533Z"
    }
   },
   "id": "fb6de12f85b532a2"
  },
  {
   "cell_type": "markdown",
   "id": "580600c5-18a1-4d92-aa80-7b785d5e2bd4",
   "metadata": {},
   "source": [
    "## Aliases (shared parameters) \n",
    "\n",
    "Parameters are classes (types), thus objects created are independent. "
   ]
  },
  {
   "cell_type": "code",
   "execution_count": 7,
   "id": "009de2ec-dc0d-46cc-b6b2-872942462a7a",
   "metadata": {
    "ExecuteTime": {
     "end_time": "2023-08-20T12:43:08.725716Z",
     "start_time": "2023-08-20T12:43:08.691956Z"
    }
   },
   "outputs": [
    {
     "name": "stdout",
     "output_type": "stream",
     "text": [
      "var1: None // var2: None // var3: None  --  Initial\n",
      "var1: 1299 // var2: None // var3: None  --  After mutating var1\n",
      "var1: 1299 // var2: 4757 // var3: None  --  After mutating var2\n",
      "var1: 1299 // var2: 4757 // var3: 2269  --  After mutating var3\n"
     ]
    }
   ],
   "source": [
    "parameter = byron.f.integer_parameter(0, 10_000)\n",
    "\n",
    "var1 = parameter()\n",
    "var2 = parameter()\n",
    "var3 = parameter()\n",
    "print(f\"var1: {var1} // var2: {var2} // var3: {var3}  --  Initial\")\n",
    "var1.mutate()\n",
    "print(f\"var1: {var1} // var2: {var2} // var3: {var3}  --  After mutating var1\")\n",
    "var2.mutate()\n",
    "print(f\"var1: {var1} // var2: {var2} // var3: {var3}  --  After mutating var2\")\n",
    "var3.mutate()\n",
    "print(f\"var1: {var1} // var2: {var2} // var3: {var3}  --  After mutating var3\")"
   ]
  },
  {
   "cell_type": "markdown",
   "id": "36b139fd-6b86-4dea-ab17-29ab820211e9",
   "metadata": {},
   "source": [
    "However, it may be necessary to have all instances of a specific parameter sharing the very same data. Parameters defined by a `make_shared_parameter` behave like *aliases*: they always have the same value, changes (e.g., `mutate()`) only affect the *first* instance."
   ]
  },
  {
   "cell_type": "code",
   "execution_count": 8,
   "id": "8a702b11-a01a-4874-bf73-da3b85cd12ae",
   "metadata": {
    "ExecuteTime": {
     "end_time": "2023-08-20T12:43:08.725810Z",
     "start_time": "2023-08-20T12:43:08.694970Z"
    }
   },
   "outputs": [
    {
     "name": "stdout",
     "output_type": "stream",
     "text": [
      "var1: None // var2: None // var3: None  --  Initial\n",
      "var1: 6698 // var2: 6698 // var3: None  --  After mutating var1\n",
      "var1: 6698 // var2: 6698 // var3: None  --  After mutating var2\n",
      "var1: 6698 // var2: 6698 // var3: 4371  --  After mutating var3\n"
     ]
    }
   ],
   "source": [
    "shared_parameter1 = byron.f.make_shared_parameter(byron.f.integer_parameter(0, 10_000))\n",
    "shared_parameter2 = byron.f.make_shared_parameter(byron.f.integer_parameter(0, 10_000))\n",
    "\n",
    "var1 = shared_parameter1()\n",
    "var2 = shared_parameter1()\n",
    "var3 = shared_parameter2()\n",
    "print(f\"var1: {var1} // var2: {var2} // var3: {var3}  --  Initial\")\n",
    "var1.mutate()\n",
    "print(f\"var1: {var1} // var2: {var2} // var3: {var3}  --  After mutating var1\")\n",
    "var2.mutate()\n",
    "print(f\"var1: {var1} // var2: {var2} // var3: {var3}  --  After mutating var2\")\n",
    "var3.mutate()\n",
    "print(f\"var1: {var1} // var2: {var2} // var3: {var3}  --  After mutating var3\")"
   ]
  },
  {
   "cell_type": "markdown",
   "id": "73fad1e3-2e44-479c-9222-140d061f3ebc",
   "metadata": {},
   "source": [
    "## Notes"
   ]
  },
  {
   "cell_type": "markdown",
   "id": "b9d8fb63-8a56-4f21-a111-df64ee46c024",
   "metadata": {},
   "source": [
    "### Meaningful names"
   ]
  },
  {
   "cell_type": "code",
   "execution_count": 9,
   "id": "a48cc3ad-0b05-4ace-a48f-5ad7abe2cadc",
   "metadata": {
    "ExecuteTime": {
     "end_time": "2023-08-20T12:43:08.726041Z",
     "start_time": "2023-08-20T12:43:08.696331Z"
    }
   },
   "outputs": [
    {
     "data": {
      "text/plain": "(byron.parameter.Int[0..99], byron.parameter.Int[8bit])"
     },
     "execution_count": 9,
     "metadata": {},
     "output_type": "execute_result"
    }
   ],
   "source": [
    "byron.f.integer_parameter(0, 100), byron.f.integer_parameter(0, 256)"
   ]
  },
  {
   "cell_type": "code",
   "execution_count": 10,
   "id": "5dfa593d-7ca5-4974-a64f-984290c38168",
   "metadata": {
    "ExecuteTime": {
     "end_time": "2023-08-20T12:43:08.726139Z",
     "start_time": "2023-08-20T12:43:08.700287Z"
    }
   },
   "outputs": [
    {
     "data": {
      "text/plain": "byron.parameter.Choice[A┊B┊C┊D┊E┊F┊G]"
     },
     "execution_count": 10,
     "metadata": {},
     "output_type": "execute_result"
    }
   ],
   "source": [
    "byron.f.choice_parameter(\"BAGFECD\")"
   ]
  },
  {
   "cell_type": "markdown",
   "id": "89c67c3d-1f37-4804-b428-34ad8dcf29e6",
   "metadata": {},
   "source": [
    "### Helpful warnings\n",
    "\n",
    "Friendly suggestions are shown if code is not optimized and logging level is `DEBUG` (the default in notebooks)"
   ]
  },
  {
   "cell_type": "code",
   "execution_count": 11,
   "id": "530eec70-c01c-4081-b3ac-b18f2606d584",
   "metadata": {
    "ExecuteTime": {
     "end_time": "2023-08-20T12:43:08.726367Z",
     "start_time": "2023-08-20T12:43:08.702296Z"
    }
   },
   "outputs": [
    {
     "name": "stderr",
     "output_type": "stream",
     "text": [
      "/var/folders/31/dkl97hks2c14b663vl55pt440000gn/T/ipykernel_34929/2880333942.py:1: ByronFriendlyWarning: \n",
      "  Parameter ranges are half-open: the maximum value is 99 (ie. a range of 99 possible values) — did you mean '(1, 101)'?\n",
      "  possible_error = byron.f.integer_parameter(1, 100)\n"
     ]
    }
   ],
   "source": [
    "possible_error = byron.f.integer_parameter(1, 100)"
   ]
  },
  {
   "cell_type": "code",
   "execution_count": 12,
   "id": "9c23aed0-fe6a-4010-9bce-a616ddc5c82c",
   "metadata": {
    "ExecuteTime": {
     "end_time": "2023-08-20T12:43:08.726558Z",
     "start_time": "2023-08-20T12:43:08.708691Z"
    }
   },
   "outputs": [
    {
     "name": "stderr",
     "output_type": "stream",
     "text": [
      "/var/folders/31/dkl97hks2c14b663vl55pt440000gn/T/ipykernel_34929/3768838695.py:1: ByronFriendlyWarning: \n",
      "  Choice parameters with many alternatives impair performances — why not using an integer parameter [0-1000)?\n",
      "  possible_error = byron.f.choice_parameter(range(1_000))\n"
     ]
    }
   ],
   "source": [
    "possible_error = byron.f.choice_parameter(range(1_000))"
   ]
  },
  {
   "cell_type": "markdown",
   "id": "a2a3b907-90ef-4fa6-91e7-05d3bcf71413",
   "metadata": {},
   "source": [
    "### Cache\n",
    "\n",
    "Results are cached. Calling the same parameter factory with the same arguments yields the same parameter (the **very same** one, not an identical copy)"
   ]
  },
  {
   "cell_type": "code",
   "execution_count": 13,
   "id": "cfa24064-6ff9-4714-a65a-48cced9600c5",
   "metadata": {
    "ExecuteTime": {
     "end_time": "2023-08-20T12:43:08.726651Z",
     "start_time": "2023-08-20T12:43:08.711128Z"
    }
   },
   "outputs": [
    {
     "data": {
      "text/plain": "(True, True)"
     },
     "execution_count": 13,
     "metadata": {},
     "output_type": "execute_result"
    }
   ],
   "source": [
    "word1 = byron.f.integer_parameter(0, 2 ** 16)\n",
    "word2 = byron.f.integer_parameter(0, 65_536)\n",
    "\n",
    "word1 == word2, word1 is word2"
   ]
  },
  {
   "cell_type": "code",
   "execution_count": 14,
   "id": "3e01388b-5500-4d96-9492-efe5b0a6b7cc",
   "metadata": {
    "ExecuteTime": {
     "end_time": "2023-08-20T12:43:08.726745Z",
     "start_time": "2023-08-20T12:43:08.715337Z"
    }
   },
   "outputs": [
    {
     "data": {
      "text/plain": "(True, True)"
     },
     "execution_count": 14,
     "metadata": {},
     "output_type": "execute_result"
    }
   ],
   "source": [
    "choice1 = byron.f.choice_parameter(['Yes', 'No', 'Maybe'])\n",
    "choice2 = byron.f.choice_parameter(('Maybe', 'Yes', 'No'))\n",
    "\n",
    "choice1 == choice2, choice1 is choice2"
   ]
  },
  {
   "cell_type": "markdown",
   "id": "ac888231-8f4a-4168-a932-573407caa678",
   "metadata": {},
   "source": [
    "# Macros\n",
    "\n",
    "Macros represent multi-line parametric fragments. Macros, as a Frames, can be tested using `show`."
   ]
  },
  {
   "cell_type": "code",
   "execution_count": 15,
   "id": "b42b1a2a-96b9-44c3-9529-302edbc700df",
   "metadata": {
    "ExecuteTime": {
     "end_time": "2023-08-20T12:43:08.727294Z",
     "start_time": "2023-08-20T12:43:08.718176Z"
    }
   },
   "outputs": [
    {
     "name": "stdout",
     "output_type": "stream",
     "text": [
      "bar := 54  ; 🖋 n1 ➜ Macro❬User#2❭\n"
     ]
    }
   ],
   "source": [
    "macro = byron.f.macro(\n",
    "    \"{var} := {num}\", var=byron.f.choice_parameter(['foo', 'bar']), num=byron.f.integer_parameter(-100, 100)\n",
    ")\n",
    "byron.f.as_text(macro)  # use node_info=False to remove node info \"🖋 n0.n1 ➜ \""
   ]
  },
  {
   "cell_type": "code",
   "execution_count": 16,
   "id": "ddefbeb1-34a4-4a80-9a3e-221cf27c8b8c",
   "metadata": {
    "ExecuteTime": {
     "end_time": "2023-08-20T12:43:08.727423Z",
     "start_time": "2023-08-20T12:43:08.721404Z"
    }
   },
   "outputs": [
    {
     "name": "stdout",
     "output_type": "stream",
     "text": [
      "bar := 0x36 ; ie. set the variable 'bar' to 54  ; 🖋 n1 ➜ Macro❬User#3❭\n"
     ]
    }
   ],
   "source": [
    "variable = byron.f.choice_parameter(['foo', 'bar'])\n",
    "integer = byron.f.integer_parameter(-100, 100)\n",
    "macro = byron.f.macro(\"{var} := {num:#x} ; ie. set the variable '{var}' to {num}\", var=variable, num=integer)\n",
    "byron.f.as_text(macro)"
   ]
  },
  {
   "cell_type": "markdown",
   "id": "b23831f0-56d5-42a1-a95b-9f9415223a09",
   "metadata": {},
   "source": [
    "# *as_text* (*as_lgp* and *as_forest*)"
   ]
  },
  {
   "cell_type": "code",
   "execution_count": 17,
   "id": "50685179-8ec4-432b-b098-6298d82e8564",
   "metadata": {
    "ExecuteTime": {
     "end_time": "2023-08-20T12:43:08.738476Z",
     "start_time": "2023-08-20T12:43:08.725016Z"
    }
   },
   "outputs": [
    {
     "name": "stdout",
     "output_type": "stream",
     "text": [
      "bar := 0x36 ; ie. set the variable 'bar' to 54  ; 🖋 n1 ➜ Macro❬User#3❭\n",
      "\n",
      "bar := 0x36 ; ie. set the variable 'bar' to 54  ; 🖋 n1 ➜ Macro❬User#3❭\n",
      "\n",
      "bar := 0x36 ; ie. set the variable 'bar' to 54  ; 🖋 n1 ➜ Macro❬User#3❭\n",
      "\n",
      "bar := 0x36 ; ie. set the variable 'bar' to 54  ; 🖋 n1 ➜ Macro❬User#3❭\n",
      "\n",
      "bar := 0x36 ; ie. set the variable 'bar' to 54  ; 🖋 n1 ➜ Macro❬User#3❭\n"
     ]
    }
   ],
   "source": [
    "for _ in range(5):\n",
    "    byron.f.as_text(macro)"
   ]
  },
  {
   "cell_type": "code",
   "execution_count": 18,
   "id": "3a9e68e3-7a5a-4f92-a681-8131792b6ced",
   "metadata": {
    "ExecuteTime": {
     "end_time": "2023-08-20T12:43:08.745200Z",
     "start_time": "2023-08-20T12:43:08.728286Z"
    }
   },
   "outputs": [
    {
     "name": "stdout",
     "output_type": "stream",
     "text": [
      "bar := 0x36 ; ie. set the variable 'bar' to 54\n",
      "\n",
      "bar := 0x36 ; ie. set the variable 'bar' to 54\n",
      "\n",
      "bar := 0x36 ; ie. set the variable 'bar' to 54\n",
      "\n",
      "bar := 0x36 ; ie. set the variable 'bar' to 54\n",
      "\n",
      "bar := 0x36 ; ie. set the variable 'bar' to 54\n"
     ]
    }
   ],
   "source": [
    "for _ in range(5):\n",
    "    byron.f.as_text(macro, node_info=False)"
   ]
  },
  {
   "cell_type": "code",
   "execution_count": 19,
   "id": "1854a102-7183-4a8d-a717-237888153dbd",
   "metadata": {
    "ExecuteTime": {
     "end_time": "2023-08-20T12:43:08.745477Z",
     "start_time": "2023-08-20T12:43:08.730550Z"
    }
   },
   "outputs": [
    {
     "name": "stdout",
     "output_type": "stream",
     "text": [
      "bar := 0x55 ; ie. set the variable 'bar' to 85\n",
      "\n",
      "foo := 0x1b ; ie. set the variable 'foo' to 27\n",
      "\n",
      "bar := -0x62 ; ie. set the variable 'bar' to -98\n",
      "\n",
      "bar := 0x4f ; ie. set the variable 'bar' to 79\n",
      "\n",
      "bar := -0x3 ; ie. set the variable 'bar' to -3\n"
     ]
    }
   ],
   "source": [
    "for _ in range(5):\n",
    "    byron.f.as_text(macro, node_info=False, seed=None)"
   ]
  },
  {
   "cell_type": "code",
   "execution_count": 19,
   "id": "af961dcb-8f6b-44f3-8a43-d3922f0cddff",
   "metadata": {
    "ExecuteTime": {
     "end_time": "2023-08-20T12:43:08.745530Z",
     "start_time": "2023-08-20T12:43:08.733645Z"
    }
   },
   "outputs": [],
   "source": []
  }
 ],
 "metadata": {
  "kernelspec": {
   "display_name": "Python 3 (ipykernel)",
   "language": "python",
   "name": "python3"
  },
  "language_info": {
   "codemirror_mode": {
    "name": "ipython",
    "version": 3
   },
   "file_extension": ".py",
   "mimetype": "text/x-python",
   "name": "python",
   "nbconvert_exporter": "python",
   "pygments_lexer": "ipython3",
   "version": "3.11.4"
  }
 },
 "nbformat": 4,
 "nbformat_minor": 5
}
