{
 "cells": [
  {
   "cell_type": "markdown",
   "id": "257e30e7-d722-4672-9ac9-8fe769cfcf2b",
   "metadata": {},
   "source": [
    "This notebook is part of [**Byron v0.1**](https://github.com/cad-polito-it/byron)  \n",
    "Copyright 2023 Giovanni Squillero and Alberto Tonda  \n",
    "SPDX-License-Identifier: [Apache-2.0](https://www.tldrlegal.com/license/apache-license-2-0-apache-2-0) "
   ]
  },
  {
   "cell_type": "code",
   "execution_count": 1,
   "id": "a011ff81-bfd5-48be-a8f4-df8051ffbb6e",
   "metadata": {
    "ExecuteTime": {
     "end_time": "2023-08-19T15:51:57.677555Z",
     "start_time": "2023-08-19T15:51:56.849155Z"
    }
   },
   "outputs": [
    {
     "name": "stderr",
     "output_type": "stream",
     "text": [
      "/var/folders/31/dkl97hks2c14b663vl55pt440000gn/T/ipykernel_12260/1429530752.py:1: ByronPerformanceWarning: \n",
      "  Paranoia checks are enabled in this notebook: performances can be significantly impaired\n",
      "  [see https://github.com/cad-polito-it/byron/blob/pre-alpha/docs/paranoia.md for details]\n",
      "  import byron\n"
     ]
    }
   ],
   "source": [
    "import byron"
   ]
  },
  {
   "cell_type": "markdown",
   "id": "8bffc227-b4ac-4b12-9fe5-9a0144fa5d7f",
   "metadata": {},
   "source": [
    "Everything for the definition of the constraints (the old \"instruction library\") is under the namespace `byron.framework` (lazy fingers can use `byron.f`)"
   ]
  },
  {
   "cell_type": "markdown",
   "id": "60fc521d-2f5f-4e2e-9491-8da812aa8f97",
   "metadata": {},
   "source": [
    "# Global References\n",
    "\n",
    "Global references specify the target frame (notez bien: a frame may contains sub frames)"
   ]
  },
  {
   "cell_type": "markdown",
   "id": "e04cd7c0-6b4b-4029-aea4-fee6458951de",
   "metadata": {},
   "source": [
    "## *Internal* Global References\n",
    "\n",
    "A reference to a different frame in the same subtree."
   ]
  },
  {
   "cell_type": "code",
   "execution_count": 2,
   "id": "14ef7676-a572-46c4-8060-1126d6de4363",
   "metadata": {
    "ExecuteTime": {
     "end_time": "2023-08-19T15:51:57.879746Z",
     "start_time": "2023-08-19T15:51:57.674847Z"
    }
   },
   "outputs": [
    {
     "ename": "AssertionError",
     "evalue": "ValueError (paranoia check): invalid value: 5849",
     "output_type": "error",
     "traceback": [
      "\u001B[0;31m---------------------------------------------------------------------------\u001B[0m",
      "\u001B[0;31mAssertionError\u001B[0m                            Traceback (most recent call last)",
      "Cell \u001B[0;32mIn[2], line 9\u001B[0m\n\u001B[1;32m      6\u001B[0m ref_bunch \u001B[38;5;241m=\u001B[39m byron\u001B[38;5;241m.\u001B[39mf\u001B[38;5;241m.\u001B[39mbunch([macro_ref], size\u001B[38;5;241m=\u001B[39m\u001B[38;5;241m3\u001B[39m)\n\u001B[1;32m      7\u001B[0m program \u001B[38;5;241m=\u001B[39m byron\u001B[38;5;241m.\u001B[39mf\u001B[38;5;241m.\u001B[39msequence([foo_bunch, ref_bunch])\n\u001B[0;32m----> 9\u001B[0m \u001B[43mbyron\u001B[49m\u001B[38;5;241;43m.\u001B[39;49m\u001B[43mf\u001B[49m\u001B[38;5;241;43m.\u001B[39;49m\u001B[43mas_text\u001B[49m\u001B[43m(\u001B[49m\u001B[43mprogram\u001B[49m\u001B[43m)\u001B[49m\n\u001B[1;32m     10\u001B[0m byron\u001B[38;5;241m.\u001B[39mf\u001B[38;5;241m.\u001B[39mas_forest(program)\n\u001B[1;32m     11\u001B[0m byron\u001B[38;5;241m.\u001B[39mf\u001B[38;5;241m.\u001B[39mas_lgp(program)\n",
      "File \u001B[0;32m~/Repos/byron/byron/framework/show_element.py:74\u001B[0m, in \u001B[0;36mas_text\u001B[0;34m(element, seed, node_info, extra_parameters)\u001B[0m\n\u001B[1;32m     72\u001B[0m \u001B[38;5;28;01melse\u001B[39;00m:\n\u001B[1;32m     73\u001B[0m     \u001B[38;5;28;01mraise\u001B[39;00m \u001B[38;5;167;01mNotImplementedError\u001B[39;00m(\u001B[38;5;124mf\u001B[39m\u001B[38;5;124m\"\u001B[39m\u001B[38;5;132;01m{\u001B[39;00m\u001B[38;5;18m__name__\u001B[39m\u001B[38;5;132;01m}\u001B[39;00m\u001B[38;5;124m.as_text(\u001B[39m\u001B[38;5;132;01m{\u001B[39;00melement\u001B[38;5;132;01m!r}\u001B[39;00m\u001B[38;5;124m)\u001B[39m\u001B[38;5;124m\"\u001B[39m)\n\u001B[0;32m---> 74\u001B[0m individual \u001B[38;5;241m=\u001B[39m \u001B[43m_generate_random_individual\u001B[49m\u001B[43m(\u001B[49m\u001B[43mframe\u001B[49m\u001B[43m,\u001B[49m\u001B[43m \u001B[49m\u001B[43mseed\u001B[49m\u001B[38;5;241;43m=\u001B[39;49m\u001B[43mseed\u001B[49m\u001B[43m)\u001B[49m\n\u001B[1;32m     76\u001B[0m \u001B[38;5;28;01mif\u001B[39;00m extra_parameters \u001B[38;5;129;01mis\u001B[39;00m \u001B[38;5;28;01mNone\u001B[39;00m:\n\u001B[1;32m     77\u001B[0m     extra_parameters \u001B[38;5;241m=\u001B[39m \u001B[38;5;28mdict\u001B[39m()\n",
      "File \u001B[0;32m~/Repos/byron/byron/framework/show_element.py:129\u001B[0m, in \u001B[0;36m_generate_random_individual\u001B[0;34m(frame, seed)\u001B[0m\n\u001B[1;32m    127\u001B[0m random_individuals \u001B[38;5;241m=\u001B[39m []\n\u001B[1;32m    128\u001B[0m \u001B[38;5;28;01mwhile\u001B[39;00m \u001B[38;5;129;01mnot\u001B[39;00m random_individuals:\n\u001B[0;32m--> 129\u001B[0m     random_individuals \u001B[38;5;241m=\u001B[39m \u001B[43mrandom_individual\u001B[49m\u001B[43m(\u001B[49m\u001B[43mframe\u001B[49m\u001B[43m)\u001B[49m\n\u001B[1;32m    130\u001B[0m random_individuals[\u001B[38;5;241m0\u001B[39m]\u001B[38;5;241m.\u001B[39mgenome\u001B[38;5;241m.\u001B[39mnodes[NODE_ZERO][\u001B[38;5;124m'\u001B[39m\u001B[38;5;124m$omit_from_dump\u001B[39m\u001B[38;5;124m'\u001B[39m] \u001B[38;5;241m=\u001B[39m \u001B[38;5;28;01mTrue\u001B[39;00m\n\u001B[1;32m    132\u001B[0m rrandom\u001B[38;5;241m.\u001B[39mstate \u001B[38;5;241m=\u001B[39m rrandom_state\n",
      "File \u001B[0;32m~/Repos/byron/byron/registry.py:163\u001B[0m, in \u001B[0;36mgenetic_operator.<locals>.decorator.<locals>.wrapper\u001B[0;34m(*args, **kwargs)\u001B[0m\n\u001B[1;32m    161\u001B[0m wrapper\u001B[38;5;241m.\u001B[39mstats\u001B[38;5;241m.\u001B[39mcalls \u001B[38;5;241m+\u001B[39m\u001B[38;5;241m=\u001B[39m \u001B[38;5;241m1\u001B[39m\n\u001B[1;32m    162\u001B[0m \u001B[38;5;28;01mtry\u001B[39;00m:\n\u001B[0;32m--> 163\u001B[0m     offspring \u001B[38;5;241m=\u001B[39m \u001B[43mfunc\u001B[49m\u001B[43m(\u001B[49m\u001B[38;5;241;43m*\u001B[39;49m\u001B[43margs\u001B[49m\u001B[43m,\u001B[49m\u001B[43m \u001B[49m\u001B[38;5;241;43m*\u001B[39;49m\u001B[38;5;241;43m*\u001B[39;49m\u001B[43mkwargs\u001B[49m\u001B[43m)\u001B[49m\n\u001B[1;32m    164\u001B[0m \u001B[38;5;28;01mexcept\u001B[39;00m ByronOperatorFailure:\n\u001B[1;32m    165\u001B[0m     offspring \u001B[38;5;241m=\u001B[39m \u001B[38;5;28mlist\u001B[39m()\n",
      "File \u001B[0;32m~/Repos/byron/byron/operators/initializers.py:44\u001B[0m, in \u001B[0;36mrandom_individual\u001B[0;34m(top_frame)\u001B[0m\n\u001B[1;32m     42\u001B[0m new_individual \u001B[38;5;241m=\u001B[39m Individual(top_frame)\n\u001B[1;32m     43\u001B[0m \u001B[38;5;28;01mtry\u001B[39;00m:\n\u001B[0;32m---> 44\u001B[0m     new_root \u001B[38;5;241m=\u001B[39m \u001B[43munroll_individual\u001B[49m\u001B[43m(\u001B[49m\u001B[43mnew_individual\u001B[49m\u001B[43m,\u001B[49m\u001B[43m \u001B[49m\u001B[43mtop_frame\u001B[49m\u001B[43m)\u001B[49m\n\u001B[1;32m     45\u001B[0m \u001B[38;5;28;01mexcept\u001B[39;00m ByronOperatorFailure:\n\u001B[1;32m     46\u001B[0m     new_root \u001B[38;5;241m=\u001B[39m \u001B[38;5;28;01mNone\u001B[39;00m\n",
      "File \u001B[0;32m~/Repos/byron/byron/classes/monitor.py:72\u001B[0m, in \u001B[0;36mfailure_rate.<locals>.wrapper\u001B[0;34m(*args, **kwargs)\u001B[0m\n\u001B[1;32m     67\u001B[0m         performance_warning(\n\u001B[1;32m     68\u001B[0m             \u001B[38;5;124mf\u001B[39m\u001B[38;5;124m\"\u001B[39m\u001B[38;5;124mThe failure rate of \u001B[39m\u001B[38;5;124m'\u001B[39m\u001B[38;5;132;01m{\u001B[39;00mfunc\u001B[38;5;241m.\u001B[39m\u001B[38;5;18m__qualname__\u001B[39m\u001B[38;5;132;01m}\u001B[39;00m\u001B[38;5;124m'\u001B[39m\u001B[38;5;124m is \u001B[39m\u001B[38;5;132;01m{\u001B[39;00m\u001B[38;5;241m100\u001B[39m\u001B[38;5;250m \u001B[39m\u001B[38;5;241m*\u001B[39m\u001B[38;5;250m \u001B[39mfailures\u001B[38;5;250m \u001B[39m\u001B[38;5;241m/\u001B[39m\u001B[38;5;250m \u001B[39mtotal\u001B[38;5;132;01m:\u001B[39;00m\u001B[38;5;124mg\u001B[39m\u001B[38;5;132;01m}\u001B[39;00m\u001B[38;5;124m% \u001B[39m\u001B[38;5;124m\"\u001B[39m\n\u001B[1;32m     69\u001B[0m             \u001B[38;5;241m+\u001B[39m \u001B[38;5;124mf\u001B[39m\u001B[38;5;124m\"\u001B[39m\u001B[38;5;124m(\u001B[39m\u001B[38;5;132;01m{\u001B[39;00msuccesses\u001B[38;5;132;01m:\u001B[39;00m\u001B[38;5;124m,\u001B[39m\u001B[38;5;132;01m}\u001B[39;00m\u001B[38;5;124m success\u001B[39m\u001B[38;5;132;01m{\u001B[39;00m\u001B[38;5;124m'\u001B[39m\u001B[38;5;124mes\u001B[39m\u001B[38;5;124m'\u001B[39m\u001B[38;5;250m \u001B[39m\u001B[38;5;28;01mif\u001B[39;00m\u001B[38;5;250m \u001B[39msuccesses\u001B[38;5;250m \u001B[39m\u001B[38;5;241m!=\u001B[39m\u001B[38;5;250m \u001B[39m\u001B[38;5;241m1\u001B[39m\u001B[38;5;250m \u001B[39m\u001B[38;5;28;01melse\u001B[39;00m\u001B[38;5;250m \u001B[39m\u001B[38;5;124m'\u001B[39m\u001B[38;5;124m'\u001B[39m\u001B[38;5;132;01m}\u001B[39;00m\u001B[38;5;124m out of \u001B[39m\u001B[38;5;132;01m{\u001B[39;00mtotal\u001B[38;5;132;01m:\u001B[39;00m\u001B[38;5;124m,\u001B[39m\u001B[38;5;132;01m}\u001B[39;00m\u001B[38;5;124m calls)\u001B[39m\u001B[38;5;124m\"\u001B[39m\n\u001B[1;32m     70\u001B[0m         )\n\u001B[1;32m     71\u001B[0m \u001B[38;5;28;01mif\u001B[39;00m exception:\n\u001B[0;32m---> 72\u001B[0m     \u001B[38;5;28;01mraise\u001B[39;00m exception\n\u001B[1;32m     73\u001B[0m \u001B[38;5;28;01melse\u001B[39;00m:\n\u001B[1;32m     74\u001B[0m     \u001B[38;5;28;01mreturn\u001B[39;00m result\n",
      "File \u001B[0;32m~/Repos/byron/byron/classes/monitor.py:54\u001B[0m, in \u001B[0;36mfailure_rate.<locals>.wrapper\u001B[0;34m(*args, **kwargs)\u001B[0m\n\u001B[1;32m     52\u001B[0m exception \u001B[38;5;241m=\u001B[39m \u001B[38;5;28;01mNone\u001B[39;00m\n\u001B[1;32m     53\u001B[0m \u001B[38;5;28;01mtry\u001B[39;00m:\n\u001B[0;32m---> 54\u001B[0m     result \u001B[38;5;241m=\u001B[39m \u001B[43mfunc\u001B[49m\u001B[43m(\u001B[49m\u001B[38;5;241;43m*\u001B[39;49m\u001B[43margs\u001B[49m\u001B[43m,\u001B[49m\u001B[43m \u001B[49m\u001B[38;5;241;43m*\u001B[39;49m\u001B[38;5;241;43m*\u001B[39;49m\u001B[43mkwargs\u001B[49m\u001B[43m)\u001B[49m\n\u001B[1;32m     55\u001B[0m \u001B[38;5;28;01mexcept\u001B[39;00m \u001B[38;5;167;01mException\u001B[39;00m \u001B[38;5;28;01mas\u001B[39;00m e:\n\u001B[1;32m     56\u001B[0m     result \u001B[38;5;241m=\u001B[39m \u001B[38;5;28;01mFalse\u001B[39;00m\n",
      "File \u001B[0;32m~/Repos/byron/byron/operators/unroll.py:68\u001B[0m, in \u001B[0;36munroll_individual\u001B[0;34m(individual, top)\u001B[0m\n\u001B[1;32m     66\u001B[0m     \u001B[38;5;28;01mreturn\u001B[39;00m \u001B[38;5;28;01mNone\u001B[39;00m\n\u001B[1;32m     67\u001B[0m G\u001B[38;5;241m.\u001B[39madd_edge(NODE_ZERO, new_node_reference\u001B[38;5;241m.\u001B[39mnode, _type\u001B[38;5;241m=\u001B[39mFRAMEWORK)\n\u001B[0;32m---> 68\u001B[0m \u001B[43minitialize_subtree\u001B[49m\u001B[43m(\u001B[49m\u001B[43mnew_node_reference\u001B[49m\u001B[43m)\u001B[49m\n\u001B[1;32m     70\u001B[0m \u001B[38;5;28;01mif\u001B[39;00m individual\u001B[38;5;241m.\u001B[39mvalid:\n\u001B[1;32m     71\u001B[0m     \u001B[38;5;28;01mreturn\u001B[39;00m new_node_reference\u001B[38;5;241m.\u001B[39mnode\n",
      "File \u001B[0;32m~/Repos/byron/byron/operators/unroll.py:89\u001B[0m, in \u001B[0;36minitialize_subtree\u001B[0;34m(node_reference)\u001B[0m\n\u001B[1;32m     87\u001B[0m \u001B[38;5;28;01mfor\u001B[39;00m p \u001B[38;5;129;01min\u001B[39;00m get_all_parameters(node_reference\u001B[38;5;241m.\u001B[39mgraph, node_reference\u001B[38;5;241m.\u001B[39mnode):\n\u001B[1;32m     88\u001B[0m     \u001B[38;5;28;01massert\u001B[39;00m p\u001B[38;5;241m.\u001B[39mvalue \u001B[38;5;129;01mis\u001B[39;00m \u001B[38;5;28;01mNone\u001B[39;00m, \u001B[38;5;124mf\u001B[39m\u001B[38;5;124m\"\u001B[39m\u001B[38;5;132;01m{\u001B[39;00mPARANOIA_VALUE_ERROR\u001B[38;5;132;01m}\u001B[39;00m\u001B[38;5;124m: \u001B[39m\u001B[38;5;132;01m{\u001B[39;00mp\u001B[38;5;132;01m}\u001B[39;00m\u001B[38;5;124m already initialized\u001B[39m\u001B[38;5;124m\"\u001B[39m\n\u001B[0;32m---> 89\u001B[0m     \u001B[43mp\u001B[49m\u001B[38;5;241;43m.\u001B[39;49m\u001B[43mmutate\u001B[49m\u001B[43m(\u001B[49m\u001B[38;5;241;43m1\u001B[39;49m\u001B[43m)\u001B[49m\n",
      "File \u001B[0;32m~/Repos/byron/byron/framework/parameter.py:65\u001B[0m, in \u001B[0;36m_numeric.<locals>.T.mutate\u001B[0;34m(self, strength)\u001B[0m\n\u001B[1;32m     63\u001B[0m \u001B[38;5;28;01mdef\u001B[39;00m \u001B[38;5;21mmutate\u001B[39m(\u001B[38;5;28mself\u001B[39m, strength: \u001B[38;5;28mfloat\u001B[39m \u001B[38;5;241m=\u001B[39m \u001B[38;5;241m1.0\u001B[39m) \u001B[38;5;241m-\u001B[39m\u001B[38;5;241m>\u001B[39m \u001B[38;5;28;01mNone\u001B[39;00m:\n\u001B[1;32m     64\u001B[0m     \u001B[38;5;28;01mif\u001B[39;00m strength \u001B[38;5;241m==\u001B[39m \u001B[38;5;241m1.0\u001B[39m:\n\u001B[0;32m---> 65\u001B[0m         \u001B[38;5;28;43mself\u001B[39;49m\u001B[38;5;241;43m.\u001B[39;49m\u001B[43mvalue\u001B[49m \u001B[38;5;241m=\u001B[39m rrandom\u001B[38;5;241m.\u001B[39msigma_randint(min_, max_)\n\u001B[1;32m     66\u001B[0m     \u001B[38;5;28;01melse\u001B[39;00m:\n\u001B[1;32m     67\u001B[0m         \u001B[38;5;28mself\u001B[39m\u001B[38;5;241m.\u001B[39mvalue \u001B[38;5;241m=\u001B[39m rrandom\u001B[38;5;241m.\u001B[39msigma_randint(min_, max_, loc\u001B[38;5;241m=\u001B[39m\u001B[38;5;28mself\u001B[39m\u001B[38;5;241m.\u001B[39m_value, strength\u001B[38;5;241m=\u001B[39mstrength)\n",
      "File \u001B[0;32m~/Repos/byron/byron/classes/parameter.py:79\u001B[0m, in \u001B[0;36mParameterABC.value\u001B[0;34m(self, new_value)\u001B[0m\n\u001B[1;32m     77\u001B[0m \u001B[38;5;129m@value\u001B[39m\u001B[38;5;241m.\u001B[39msetter\n\u001B[1;32m     78\u001B[0m \u001B[38;5;28;01mdef\u001B[39;00m \u001B[38;5;21mvalue\u001B[39m(\u001B[38;5;28mself\u001B[39m, new_value):\n\u001B[0;32m---> 79\u001B[0m     \u001B[38;5;28;01massert\u001B[39;00m \u001B[38;5;28mself\u001B[39m\u001B[38;5;241m.\u001B[39mis_correct(new_value), \u001B[38;5;124mf\u001B[39m\u001B[38;5;124m\"\u001B[39m\u001B[38;5;132;01m{\u001B[39;00mPARANOIA_VALUE_ERROR\u001B[38;5;132;01m}\u001B[39;00m\u001B[38;5;124m: invalid value: \u001B[39m\u001B[38;5;132;01m{\u001B[39;00mnew_value\u001B[38;5;132;01m}\u001B[39;00m\u001B[38;5;124m\"\u001B[39m\n\u001B[1;32m     80\u001B[0m     \u001B[38;5;28mself\u001B[39m\u001B[38;5;241m.\u001B[39m_value \u001B[38;5;241m=\u001B[39m new_value\n",
      "\u001B[0;31mAssertionError\u001B[0m: ValueError (paranoia check): invalid value: 5849"
     ]
    }
   ],
   "source": [
    "macro_foo = byron.f.macro('foo #{num:04x}', num=byron.f.integer_parameter(0, 2 ** 16))\n",
    "macro_bar = byron.f.macro('bar {num:+0.2g}', num=byron.f.float_parameter(-1, 1))\n",
    "\n",
    "foo_bunch = byron.f.bunch([macro_foo], size=5)\n",
    "macro_ref = byron.f.macro('global_ref: {ref}', ref=byron.f.global_reference(foo_bunch))\n",
    "ref_bunch = byron.f.bunch([macro_ref], size=3)\n",
    "program = byron.f.sequence([foo_bunch, ref_bunch])\n",
    "\n",
    "byron.f.as_text(program)\n",
    "byron.f.as_forest(program)\n",
    "byron.f.as_lgp(program)"
   ]
  },
  {
   "cell_type": "markdown",
   "id": "769a63d3-0e32-4a68-a363-53d7b7257f97",
   "metadata": {},
   "source": [
    "References may use the `frame` class or the name of a *frame class* (see *string magic* with frames). Remember that all names are **unique** (thus they me defined only once)."
   ]
  },
  {
   "cell_type": "code",
   "execution_count": null,
   "id": "1061d90c-043c-4f2c-a6ed-234355860215",
   "metadata": {
    "ExecuteTime": {
     "start_time": "2023-08-19T15:51:57.881124Z"
    }
   },
   "outputs": [],
   "source": [
    "macro_foo = byron.f.macro('foo #{num:04x}', num=byron.f.integer_parameter(0, 2 ** 16))\n",
    "macro_ref = byron.f.macro('global_ref: {ref}', ref=byron.f.global_reference('foo_bunch_name'))\n",
    "\n",
    "foo_bunch = byron.f.bunch([macro_foo], size=5, name='foo_bunch_name')\n",
    "ref_bunch = byron.f.bunch([macro_ref], size=3)\n",
    "program = byron.f.sequence([foo_bunch, ref_bunch])\n",
    "\n",
    "byron.f.as_text(program)"
   ]
  },
  {
   "cell_type": "markdown",
   "id": "0668c84a-e415-4bb1-89fe-a4c484d2848e",
   "metadata": {},
   "source": [
    "## *External* Global References\n",
    "\n",
    "A reference to a different frame in a different subtree. The `global_reference` must be allowed to create new frames. The *creative_zeal* $z$ defines the willingness to create new trees: if $z$ is an integer, then the probability to create the target $T_{n+1}$ if $n$ compatible targets $T_0, T_1, ..., T_n$ already exist is $p=1-\\frac{n}{n+z}$; if $z$ is a float, then the probability is simply $p = z$. If $p > 0$ and $n=0$ then the first tree is always created. "
   ]
  },
  {
   "cell_type": "code",
   "execution_count": null,
   "id": "4567799a-8e83-4abf-b0a0-cd29d604b45c",
   "metadata": {
    "ExecuteTime": {
     "end_time": "2023-08-19T15:51:57.884159Z",
     "start_time": "2023-08-19T15:51:57.882682Z"
    }
   },
   "outputs": [],
   "source": [
    "macro_foo = byron.f.macro('foo #{num:04x}', num=byron.f.integer_parameter(0, 2 ** 16))\n",
    "macro_bar = byron.f.macro('bar {num:+0.2g}', num=byron.f.float_parameter(-1, 1))\n",
    "external_frame = byron.f.bunch([macro_bar], size=3)\n",
    "macro_ref = byron.f.macro('GOTO {ref}', ref=byron.f.global_reference(external_frame, creative_zeal=1))\n",
    "main_frame = byron.f.bunch([macro_foo, macro_ref], size=5)\n",
    "\n",
    "byron.f.as_text(main_frame)\n",
    "byron.f.as_forest(main_frame)\n",
    "byron.f.as_lgp(main_frame)"
   ]
  },
  {
   "cell_type": "markdown",
   "id": "f1d12fca-e1a1-474b-93df-d48bc693e8a2",
   "metadata": {},
   "source": [
    "Global references may be forced to always hit the very first maco in a frame"
   ]
  },
  {
   "cell_type": "code",
   "execution_count": null,
   "id": "3377ef5d-1200-49c1-a9ba-0a0e59aacc8f",
   "metadata": {
    "ExecuteTime": {
     "start_time": "2023-08-19T15:51:57.884539Z"
    }
   },
   "outputs": [],
   "source": [
    "macro_foo = byron.f.macro('foo #{num:04x}', num=byron.f.integer_parameter(0, 2 ** 16))\n",
    "macro_bar = byron.f.macro('bar {num:+0.2g}', num=byron.f.float_parameter(-1, 1))\n",
    "external_frame = byron.f.bunch([macro_bar], size=3)\n",
    "macro_ref = byron.f.macro('CALL {ref}', ref=byron.f.global_reference(external_frame, creative_zeal=1, first_macro=True))\n",
    "main_frame = byron.f.bunch([macro_foo, macro_ref], size=5)\n",
    "\n",
    "byron.f.as_text(main_frame)\n",
    "byron.f.as_forest(main_frame)\n",
    "byron.f.as_lgp(main_frame)"
   ]
  },
  {
   "cell_type": "markdown",
   "id": "accb455e-6462-400b-a7e0-3cf2395d65ff",
   "metadata": {},
   "source": [
    "Labels may be tweaked in different ways"
   ]
  },
  {
   "cell_type": "code",
   "execution_count": null,
   "id": "4a57d2e3-ea83-4f0e-b54c-6df5ed2ac71d",
   "metadata": {
    "ExecuteTime": {
     "start_time": "2023-08-19T15:51:57.885813Z"
    }
   },
   "outputs": [],
   "source": [
    "macro_foo = byron.f.macro('foo #{num:04x}', num=byron.f.integer_parameter(0, 2 ** 16))\n",
    "macro_bar = byron.f.macro('bar {num:+0.2g}', num=byron.f.float_parameter(-1, 1), _label='PROC {_node}:\\n')\n",
    "external_frame = byron.f.bunch([macro_bar], size=3)\n",
    "macro_ref = byron.f.macro('CALL {ref}', ref=byron.f.global_reference(external_frame, creative_zeal=1, first_macro=True))\n",
    "main_frame = byron.f.bunch([macro_foo, macro_ref], size=5)\n",
    "\n",
    "byron.f.as_text(main_frame)"
   ]
  },
  {
   "cell_type": "markdown",
   "id": "fdaf8c58-2090-4480-a7a8-c36baa2c587f",
   "metadata": {},
   "source": [
    "However, forcing a custom `_label` in *macro_bar* would use it everywhere a macro_bar is used. It is better to create a special macro just for the first line and customize it."
   ]
  },
  {
   "cell_type": "code",
   "execution_count": null,
   "id": "bcf7219a-53ec-4e57-9451-ccbef8ebbf01",
   "metadata": {
    "ExecuteTime": {
     "start_time": "2023-08-19T15:51:57.886807Z"
    }
   },
   "outputs": [],
   "source": [
    "macro_foo = byron.f.macro('foo #{num:04x}', num=byron.f.integer_parameter(0, 2 ** 16))\n",
    "macro_bar = byron.f.macro('bar {num:+0.2g}', num=byron.f.float_parameter(-1, 1))\n",
    "sub_header = byron.f.macro('; ini {_node}', _label='PROC {_node}:\\n')\n",
    "subroutines = byron.f.sequence([sub_header, byron.f.bunch([macro_foo, macro_bar], size=3)])\n",
    "macro_call = byron.f.macro('CALL {ref}', ref=byron.f.global_reference(subroutines, creative_zeal=1, first_macro=True))\n",
    "main_frame = byron.f.bunch([macro_foo, macro_bar, macro_call], weights=(1, 1, 1), size=6)\n",
    "\n",
    "byron.f.as_text(main_frame)\n",
    "byron.f.as_forest(main_frame)\n",
    "byron.f.as_lgp(main_frame)"
   ]
  },
  {
   "cell_type": "markdown",
   "id": "f8796fc3-0484-4918-bb66-024e54d5699a",
   "metadata": {},
   "source": [
    "By default external frames are dumped after the main one, burt the order may be tweaked. In the example, using *force_parent*, `n10` (the beginning of the tree containing subroutines, *Frame❬FrameSequence#4❭*) is dumped after `n2` (the placeholder, *Macro❬Text#2❭*)"
   ]
  },
  {
   "cell_type": "code",
   "execution_count": null,
   "id": "72e0a32b-50c5-4d9d-9f32-b8fa9b6d5d61",
   "metadata": {
    "ExecuteTime": {
     "start_time": "2023-08-19T15:51:57.887609Z"
    }
   },
   "outputs": [],
   "source": [
    "placeholder = byron.f.macro('')\n",
    "macro_foo = byron.f.macro('foo #{num:04x}', num=byron.f.integer_parameter(0, 2 ** 16))\n",
    "macro_bar = byron.f.macro('bar {num:+0.2g}', num=byron.f.float_parameter(-1, 1))\n",
    "sub_header = byron.f.macro('; init {_node}', _label='PROC {_node}:\\n')\n",
    "subroutines = byron.f.sequence([sub_header, byron.f.bunch([macro_foo, macro_bar], size=3)])\n",
    "macro_call = byron.f.macro('CALL {ref}', ref=byron.f.global_reference(subroutines, creative_zeal=1, first_macro=True))\n",
    "main_frame = byron.f.sequence(\n",
    "    [placeholder, byron.f.bunch([macro_foo, macro_bar, macro_call], weights=(1, 1, 1), size=6)]\n",
    ")\n",
    "subroutines.force_parent(placeholder)\n",
    "\n",
    "byron.f.as_text(main_frame)\n",
    "byron.f.as_forest(main_frame)\n",
    "byron.f.as_lgp(main_frame)"
   ]
  },
  {
   "cell_type": "code",
   "execution_count": null,
   "id": "f28f4014-776c-4630-bd12-1abe5aaf540c",
   "metadata": {
    "ExecuteTime": {
     "start_time": "2023-08-19T15:51:57.888740Z"
    }
   },
   "outputs": [],
   "source": []
  }
 ],
 "metadata": {
  "kernelspec": {
   "display_name": "Python 3 (ipykernel)",
   "language": "python",
   "name": "python3"
  },
  "language_info": {
   "codemirror_mode": {
    "name": "ipython",
    "version": 3
   },
   "file_extension": ".py",
   "mimetype": "text/x-python",
   "name": "python",
   "nbconvert_exporter": "python",
   "pygments_lexer": "ipython3",
   "version": "3.11.4"
  }
 },
 "nbformat": 4,
 "nbformat_minor": 5
}
