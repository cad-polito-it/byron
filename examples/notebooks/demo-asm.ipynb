{
 "cells": [
  {
   "cell_type": "markdown",
   "metadata": {},
   "source": [
    "This notebook is part of [**Byron v0.1**](https://github.com/squillero/byron)  \n",
    "Copyright 2023 Giovanni Squillero and Alberto Tonda  \n",
    "SPDX-License-Identifier: Apache-2.0  "
   ]
  },
  {
   "cell_type": "code",
   "execution_count": 1,
   "metadata": {
    "ExecuteTime": {
     "end_time": "2023-05-11T06:12:27.790255Z",
     "start_time": "2023-05-11T06:12:26.628047Z"
    }
   },
   "outputs": [
    {
     "name": "stderr",
     "output_type": "stream",
     "text": [
      "12:40:01 ▷ INFO ▷ MicroGP::⭐: This is MicroGP v4!2.0a0.dev1 \"Meaning of Liff\"\n",
      "12:40:01 ▷ INFO ▷ MicroGP::⭐: (c) 2022-23 G. Squillero & A. Tonda — Licensed under Apache-2.0\n"
     ]
    },
    {
     "name": "stdout",
     "output_type": "stream",
     "text": [
      "VersionInfo(epoch=4, major=2, minor=0, tag='a', micro=0, codename='Meaning of Liff', dev=1)\n"
     ]
    }
   ],
   "source": [
    "%%python -O\n",
    "\n",
    "import byron\n",
    "\n",
    "print(byron.version_info)"
   ]
  },
  {
   "cell_type": "code",
   "execution_count": 2,
   "metadata": {},
   "outputs": [
    {
     "ename": "NameError",
     "evalue": "name 'byron' is not defined",
     "output_type": "error",
     "traceback": [
      "\u001b[0;31m---------------------------------------------------------------------------\u001b[0m",
      "\u001b[0;31mNameError\u001b[0m                                 Traceback (most recent call last)",
      "Cell \u001b[0;32mIn[2], line 1\u001b[0m\n\u001b[0;32m----> 1\u001b[0m \u001b[43mbyron\u001b[49m\u001b[38;5;241m.\u001b[39mversion_info\n",
      "\u001b[0;31mNameError\u001b[0m: name 'byron' is not defined"
     ]
    }
   ],
   "source": [
    "byron.version_info"
   ]
  },
  {
   "cell_type": "code",
   "execution_count": 3,
   "metadata": {},
   "outputs": [
    {
     "name": "stdout",
     "output_type": "stream",
     "text": [
      "VersionInfo(epoch=4, major=2, minor=0, tag='a', micro=0, codename='Meaning of Liff', dev=1)\n"
     ]
    },
    {
     "name": "stderr",
     "output_type": "stream",
     "text": [
      "/var/folders/31/dkl97hks2c14b663vl55pt440000gn/T/ipykernel_3576/1195812409.py:1: RuntimeWarning: \n",
      "  Paranoia checks are always enabled in notebooks: performances can be significantly impaired\n",
      "  import byron\n"
     ]
    }
   ],
   "source": [
    "import byron\n",
    "\n",
    "print(byron.version_info)"
   ]
  },
  {
   "cell_type": "code",
   "execution_count": null,
   "metadata": {},
   "outputs": [],
   "source": []
  }
 ],
 "metadata": {
  "kernelspec": {
   "display_name": "Python 3 (ipykernel)",
   "language": "python",
   "name": "python3"
  },
  "language_info": {
   "codemirror_mode": {
    "name": "ipython",
    "version": 3
   },
   "file_extension": ".py",
   "mimetype": "text/x-python",
   "name": "python",
   "nbconvert_exporter": "python",
   "pygments_lexer": "ipython3",
   "version": "3.11.4"
  }
 },
 "nbformat": 4,
 "nbformat_minor": 1
}
