{
 "cells": [
  {
   "cell_type": "markdown",
   "id": "cf8d4bbc-9fe2-43b8-945d-403e6f91b190",
   "metadata": {},
   "source": [
    "This notebook is part of [**Byron v0.8**](https://pypi.org/project/byron/)  \n",
    "Copyright 2023 Giovanni Squillero and Alberto Tonda  \n",
    "SPDX-License-Identifier: [Apache-2.0](https://www.apache.org/licenses/LICENSE-2.0) "
   ]
  },
  {
   "cell_type": "code",
   "execution_count": 1,
   "id": "3bb17efa-7918-4bfe-a5dd-d4a6bcf08165",
   "metadata": {},
   "outputs": [],
   "source": [
    "from pprint import pprint"
   ]
  },
  {
   "cell_type": "markdown",
   "id": "43a1401d-bf66-4725-83cf-5907f9407928",
   "metadata": {},
   "source": [
    "# Onemax in Go"
   ]
  },
  {
   "cell_type": "code",
   "execution_count": 2,
   "id": "52ad6183-c167-4768-b57c-e91244e29584",
   "metadata": {},
   "outputs": [
    {
     "name": "stderr",
     "output_type": "stream",
     "text": [
      "/var/folders/31/dkl97hks2c14b663vl55pt440000gn/T/ipykernel_11165/826285489.py:1: RuntimeWarning: \n",
      "  Paranoia checks are enabled in this notebook: performances can be significantly impaired\n",
      "  [see https://github.com/cad-polito-it/byron/blob/alpha/docs/paranoia.md for details]\n",
      "  import byron\n"
     ]
    }
   ],
   "source": [
    "import byron"
   ]
  },
  {
   "cell_type": "code",
   "execution_count": 3,
   "id": "cfbaa379-1457-4e8f-8f66-10632bb55a47",
   "metadata": {},
   "outputs": [],
   "source": [
    "byron.f.set_parameter('_comment', '//')\n",
    "byron.f.set_option('$dump_node_info', False)"
   ]
  },
  {
   "cell_type": "markdown",
   "id": "2807a80d-0de7-4390-b4c1-7244d23099a4",
   "metadata": {},
   "source": [
    "Given an **integer** creative zeal of $z$, the probability to create the $n$-th variable $v_n$ is $p=1-\\frac{n}{n+z}$"
   ]
  },
  {
   "cell_type": "code",
   "execution_count": 7,
   "id": "1de76f44-5f77-4b8c-b60b-33ad4fcc9e8a",
   "metadata": {},
   "outputs": [
    {
     "name": "stdout",
     "output_type": "stream",
     "text": [
      "// Automagically written by Byron v0.8.dev3 on 14-Aug-2023 at 21:27:02  // 🖋 n0 ➜ Macro❬MacroZero❭\n",
      "// 🖋 n0.n1 ➜ Frame❬FrameSequence#2❭\n",
      "// PLACEHOLDER  // 🖋 n0.n1.n2 ➜ Macro❬Text#2❭\n",
      "var n7 uint64  // 🖋 n0.n7 ➜ Macro❬Text#1❭\n",
      "var n8 uint64  // 🖋 n0.n8 ➜ Macro❬Text#1❭\n",
      "// 🖋 n0.n1.n3 ➜ Frame❬MacroArray#2❭\n",
      "n7 = 8095878257575065600  // 🖋 n0.n1.n3.n4 ➜ Macro❬User#1❭\n",
      "n7 = 15838336090824642560  // 🖋 n0.n1.n3.n5 ➜ Macro❬User#1❭\n",
      "n8 = 1737265434024181760  // 🖋 n0.n1.n3.n6 ➜ Macro❬User#1❭\n",
      "\n"
     ]
    }
   ],
   "source": [
    "int64 = byron.f.integer_parameter(0, 2**64)\n",
    "\n",
    "# We don't want 'default' label \"n42:\"\n",
    "variables = byron.f.macro('var {_node} uint64', _label='')\n",
    "\n",
    "initialization = byron.f.macro('{var} = {num}', var=byron.f.global_reference(variables, creative_zeal=1), num=int64)\n",
    "\n",
    "# We need a placeholder before 'initialization' to force all 'variables' to appear on top\n",
    "dummy = byron.f.macro('// PLACEHOLDER')\n",
    "variables.force_parent(dummy)\n",
    "\n",
    "# The program is composed of the empty placeholder 'dummy' and the variable initialization\n",
    "program = byron.f.sequence([dummy, byron.f.bunch([initialization], size=3)])\n",
    "\n",
    "# Let's test it\n",
    "print(byron.dump_frame(program))"
   ]
  },
  {
   "cell_type": "code",
   "execution_count": null,
   "id": "70a6fb4c-9caf-4675-9e55-eb8a792aea1a",
   "metadata": {},
   "outputs": [],
   "source": []
  }
 ],
 "metadata": {
  "kernelspec": {
   "display_name": "Python 3 (ipykernel)",
   "language": "python",
   "name": "python3"
  },
  "language_info": {
   "codemirror_mode": {
    "name": "ipython",
    "version": 3
   },
   "file_extension": ".py",
   "mimetype": "text/x-python",
   "name": "python",
   "nbconvert_exporter": "python",
   "pygments_lexer": "ipython3",
   "version": "3.11.4"
  }
 },
 "nbformat": 4,
 "nbformat_minor": 5
}
