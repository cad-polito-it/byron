{
 "cells": [
  {
   "cell_type": "markdown",
   "metadata": {},
   "source": [
    "# HYPERPARAMETER TUNING"
   ]
  },
  {
   "cell_type": "code",
   "execution_count": null,
   "metadata": {},
   "outputs": [],
   "source": [
    "import logging\n",
    "import byron"
   ]
  },
  {
   "cell_type": "code",
   "execution_count": 2,
   "metadata": {},
   "outputs": [],
   "source": [
    "byron.logger.setLevel(level=logging.CRITICAL)\n"
   ]
  },
  {
   "cell_type": "code",
   "execution_count": 3,
   "metadata": {},
   "outputs": [],
   "source": [
    "NUM_BITS = 50\n"
   ]
  },
  {
   "cell_type": "code",
   "execution_count": 4,
   "metadata": {},
   "outputs": [],
   "source": [
    "@byron.fitness_function\n",
    "def fitness(genotype):\n",
    "    \"\"\"Parametric 1-max\"\"\"\n",
    "    return sum(b == '1' for b in genotype)"
   ]
  },
  {
   "cell_type": "code",
   "execution_count": 5,
   "metadata": {},
   "outputs": [],
   "source": [
    "macro = byron.f.macro('{v}', v=byron.f.array_parameter('01', NUM_BITS + 1))\n",
    "top_frame = byron.f.sequence([macro])"
   ]
  },
  {
   "cell_type": "code",
   "execution_count": 6,
   "metadata": {},
   "outputs": [],
   "source": [
    "evaluator = byron.evaluator.PythonEvaluator(fitness, strip_phenotypes=True)"
   ]
  },
  {
   "cell_type": "markdown",
   "metadata": {},
   "source": [
    "## Default configuration"
   ]
  },
  {
   "cell_type": "code",
   "execution_count": 7,
   "metadata": {},
   "outputs": [],
   "source": [
    "max_generation=500\n",
    "lambda_=20\n",
    "mu=10\n",
    "top_n=5\n",
    "lifespan=100\n",
    "rewards=[0.7,0.3]\n",
    "temperature = 0.85"
   ]
  },
  {
   "cell_type": "code",
   "execution_count": 8,
   "metadata": {},
   "outputs": [],
   "source": [
    "# population = byron.ea.adaptive_ea(\n",
    "#     top_frame, evaluator, max_generation=max_generation, lambda_=lambda_, mu=mu, max_fitness=NUM_BITS, top_n=top_n, lifespan=lifespan, rewards=rewards, temperature=temperature\n",
    "# )"
   ]
  },
  {
   "cell_type": "markdown",
   "metadata": {},
   "source": [
    "## Tuning mu, lambda\n"
   ]
  },
  {
   "cell_type": "code",
   "execution_count": 9,
   "metadata": {},
   "outputs": [],
   "source": [
    "#output_file = open('mu_lambda_mean_ind.txt', 'a')\n",
    "#output_file = open('rewards_mean.txt', 'a')\n",
    "#output_file = open('temperature_mean.txt', 'a')"
   ]
  },
  {
   "cell_type": "code",
   "execution_count": 10,
   "metadata": {},
   "outputs": [],
   "source": [
    "from math import ceil\n",
    "from byron.sys import get_operators\n",
    "from time import time"
   ]
  },
  {
   "cell_type": "code",
   "execution_count": 11,
   "metadata": {},
   "outputs": [],
   "source": [
    "def log_operators(f):\n",
    "    all_ops = sorted(get_operators(), key=lambda o: (o.num_parents if o.num_parents is not None else -1, o.__name__))\n",
    "\n",
    "    descr = {None: 'init', 1: 'mut', 2: 'xover'}\n",
    "    ret = []\n",
    "    #print(f\"GENETIC OPERATORS\\n\")\n",
    "    for op in all_ops:\n",
    "        name = f'{op.__name__}'\n",
    "        ret.append(f\"{name}:{op.stats.calls};{op.stats.offspring};{op.stats.successes}\")\n",
    "    return ret"
   ]
  },
  {
   "cell_type": "code",
   "execution_count": 12,
   "metadata": {},
   "outputs": [],
   "source": [
    "def lambda_all():\n",
    "    for mu in range(10, 110, 10):\n",
    "        output_file.write(f\"mu: {mu}\\n\")\n",
    "        print(\"mu: \", mu)\n",
    "        for lambda_ in range (10,110,10):\n",
    "            print(\"lambda: \", lambda_)\n",
    "            mean_time = []\n",
    "\n",
    "            #output_file.write(f\"MU VALUE: {mu} LAMBDA VALUE: {lambda_}\\n\")\n",
    "            for _ in range(5):\n",
    "                t1 = time()\n",
    "\n",
    "                population = byron.ea.adaptive_ea(\n",
    "                    top_frame, evaluator, max_generation=max_generation, lambda_=lambda_, mu=mu, max_fitness=NUM_BITS, top_n=top_n, lifespan=lifespan, rewards=rewards, temperature=temperature\n",
    "                )\n",
    "\n",
    "                t2 = time()\n",
    "\n",
    "                mean_time.append(t2-t1)\n",
    "            output_file.write(f\"time: {sum(mean_time)/len(mean_time)}\\n\")"
   ]
  },
  {
   "cell_type": "code",
   "execution_count": 13,
   "metadata": {},
   "outputs": [],
   "source": [
    "def lambda_all_ind():\n",
    "    for mu in range(10, 110, 10):\n",
    "        output_file.write(f\"mu: {mu}\\n\")\n",
    "        print(\"mu: \", mu)\n",
    "        for lambda_ in range (10,110,10):\n",
    "            print(\"lambda: \", lambda_)\n",
    "            mean_ind = []\n",
    "\n",
    "            #output_file.write(f\"MU VALUE: {mu} LAMBDA VALUE: {lambda_}\\n\")\n",
    "            for _ in range(5):\n",
    "               # t1 = time()\n",
    "\n",
    "                population = byron.ea.adaptive_ea(\n",
    "                    top_frame, evaluator, max_generation=max_generation, lambda_=lambda_, mu=mu, max_fitness=NUM_BITS, top_n=top_n, lifespan=lifespan, rewards=rewards, temperature=temperature\n",
    "                )\n",
    "\n",
    "               # t2 = time()\n",
    "                ind = population[0].describe(include_fitness=False, include_structure=False, include_age=True, include_lineage=False)\n",
    "                t = ind.split(\" \")[0].replace(\"𝐢\", \"\")\n",
    "                mean_ind.append(float(t))\n",
    "            output_file.write(f\"time: {sum(mean_ind)/len(mean_ind)}\\n\")"
   ]
  },
  {
   "cell_type": "code",
   "execution_count": 14,
   "metadata": {},
   "outputs": [],
   "source": [
    "#lambda_all_ind()\n",
    "# 20 10"
   ]
  },
  {
   "cell_type": "markdown",
   "metadata": {},
   "source": [
    "## Rewards"
   ]
  },
  {
   "cell_type": "code",
   "execution_count": 15,
   "metadata": {},
   "outputs": [],
   "source": [
    "from byron.registry import Statistics"
   ]
  },
  {
   "cell_type": "code",
   "execution_count": 16,
   "metadata": {},
   "outputs": [],
   "source": [
    "def reset():\n",
    "    all_ops = sorted(get_operators(), key=lambda o: (o.num_parents if o.num_parents is not None else -1, o.__name__))\n",
    "    for op in all_ops:\n",
    "        op.stats = Statistics()"
   ]
  },
  {
   "cell_type": "code",
   "execution_count": 17,
   "metadata": {},
   "outputs": [],
   "source": [
    "def parse_info(info):\n",
    "    values = []\n",
    "    for i in info:\n",
    "        name, stats = (i.split(\":\")[0], i.split(\":\")[1])\n",
    "        values.append((float(stats.split(\";\")[0]),float(stats.split(\";\")[1]),float(stats.split(\";\")[2])))\n",
    "    ret = [sum(v[0] for v in values), sum(v[1] for v in values), sum(v[2] for v in values)]\n",
    "    return ret"
   ]
  },
  {
   "cell_type": "code",
   "execution_count": 18,
   "metadata": {},
   "outputs": [],
   "source": [
    "# i = log_operators(1)\n",
    "# print(i)\n",
    "# c, o, s = parse_info(i)\n",
    "# print(c,o,s)"
   ]
  },
  {
   "cell_type": "code",
   "execution_count": 19,
   "metadata": {},
   "outputs": [],
   "source": [
    "def reward_all():\n",
    "    population = None\n",
    "    rewards = [0,0]\n",
    "    for i in range(0,10):\n",
    "        rewards[0] = i/10\n",
    "        output_file.write(f\"success: {rewards[0]}\\n\")\n",
    "        print(\"success: \", rewards[0])\n",
    "        for j in range (0,10):\n",
    "            rewards[1] = j/10\n",
    "            print(\"valid: \", rewards[1])\n",
    "            mean_calls = []\n",
    "            mean_offspring = []\n",
    "            mean_successes = []\n",
    "            mean_gen = []\n",
    "            for _ in range(5):\n",
    "                reset()\n",
    "               # t1 = time()\n",
    "\n",
    "                population = byron.ea.adaptive_ea(\n",
    "                    top_frame, evaluator, max_generation=max_generation, lambda_=lambda_, mu=mu, max_fitness=NUM_BITS, top_n=top_n, lifespan=lifespan, rewards=rewards, temperature=temperature\n",
    "                )\n",
    "                #t2 = time()\n",
    "                info = log_operators(1)\n",
    "                c,o,s = parse_info(info)\n",
    "                mean_calls.append(c)\n",
    "                mean_offspring.append(o)\n",
    "                mean_successes.append(s)\n",
    "                g = population[0].describe(include_fitness=False, include_structure=False, include_age=True, include_lineage=False)\n",
    "                mean_gen.append(float(g.split(\" \")[3]))\n",
    "            output_file.write(f\"ops:{sum(mean_calls)/len(mean_calls)};{sum(mean_offspring)/len(mean_offspring)};{sum(mean_successes)/len(mean_successes)};{sum(mean_gen)/len(mean_gen)}\\n\")\n",
    "            print(population[0].describe(include_fitness=False, include_structure=False, include_age=True, include_lineage=False))\n",
    "    return population"
   ]
  },
  {
   "cell_type": "code",
   "execution_count": 20,
   "metadata": {},
   "outputs": [],
   "source": [
    "#pop =reward_all()"
   ]
  },
  {
   "cell_type": "code",
   "execution_count": 21,
   "metadata": {},
   "outputs": [],
   "source": [
    "# g = pop[0].describe(include_fitness=False, include_structure=False, include_age=True, include_lineage=False)\n",
    "# gg = g.split(\" \")[3]\n",
    "# print(gg)"
   ]
  },
  {
   "cell_type": "markdown",
   "metadata": {},
   "source": [
    "## Temperature"
   ]
  },
  {
   "cell_type": "code",
   "execution_count": 22,
   "metadata": {},
   "outputs": [],
   "source": [
    "def temperature_all():\n",
    "    population = None\n",
    "    rewards = [0,0]\n",
    "    for i in range(50,100, 5):\n",
    "            temperature = i/100\n",
    "            mean_gen = []\n",
    "            print(temperature)\n",
    "            for _ in range(5):\n",
    "                reset()\n",
    "               # t1 = time()\n",
    "\n",
    "                population = byron.ea.adaptive_ea(\n",
    "                    top_frame, evaluator, max_generation=max_generation, lambda_=lambda_, mu=mu, max_fitness=NUM_BITS, top_n=top_n, lifespan=lifespan, rewards=rewards, temperature=temperature\n",
    "                )\n",
    "                #t2 = time()\n",
    "\n",
    "                g = population[0].describe(include_fitness=False, include_structure=False, include_age=True, include_lineage=False)\n",
    "                mean_gen.append(float(g.split(\" \")[3]))\n",
    "            output_file.write(f\"gen:{sum(mean_gen)/len(mean_gen)}\\n\")\n",
    "            print(population[0].describe(include_fitness=True, include_structure=False, include_age=True, include_lineage=False))\n",
    "    return population"
   ]
  },
  {
   "cell_type": "code",
   "execution_count": null,
   "metadata": {},
   "outputs": [],
   "source": [
    "#pop = temperature_all()"
   ]
  },
  {
   "cell_type": "code",
   "execution_count": 24,
   "metadata": {},
   "outputs": [],
   "source": [
    "output_file.close()"
   ]
  }
 ],
 "metadata": {
  "kernelspec": {
   "display_name": ".venv",
   "language": "python",
   "name": "python3"
  },
  "language_info": {
   "codemirror_mode": {
    "name": "ipython",
    "version": 3
   },
   "file_extension": ".py",
   "mimetype": "text/x-python",
   "name": "python",
   "nbconvert_exporter": "python",
   "pygments_lexer": "ipython3",
   "version": "3.10.12"
  }
 },
 "nbformat": 4,
 "nbformat_minor": 2
}
