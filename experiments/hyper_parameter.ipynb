{
 "cells": [
  {
   "cell_type": "markdown",
   "metadata": {},
   "source": [
    "# HYPERPARAMETER TUNING"
   ]
  },
  {
   "cell_type": "code",
   "execution_count": 1,
   "metadata": {},
   "outputs": [
    {
     "name": "stderr",
     "output_type": "stream",
     "text": [
      "/home/saccuz/Scrivania/TESI/byron/.venv/lib/python3.10/site-packages/tqdm/auto.py:21: TqdmWarning: IProgress not found. Please update jupyter and ipywidgets. See https://ipywidgets.readthedocs.io/en/stable/user_install.html\n",
      "  from .autonotebook import tqdm as notebook_tqdm\n",
      "/tmp/ipykernel_30192/326451194.py:2: ByronPerformanceWarning: \n",
      "  Paranoia checks are enabled in this notebook: performances can be significantly impaired\n",
      "  [see https://cad-polito-it.github.io/byron/paranoia for details]\n",
      "  import byron\n"
     ]
    }
   ],
   "source": [
    "import logging\n",
    "import byron"
   ]
  },
  {
   "cell_type": "code",
   "execution_count": 2,
   "metadata": {},
   "outputs": [],
   "source": [
    "byron.logger.setLevel(level=logging.CRITICAL)\n"
   ]
  },
  {
   "cell_type": "code",
   "execution_count": 3,
   "metadata": {},
   "outputs": [],
   "source": [
    "NUM_BITS = 50\n"
   ]
  },
  {
   "cell_type": "code",
   "execution_count": 4,
   "metadata": {},
   "outputs": [],
   "source": [
    "@byron.fitness_function\n",
    "def fitness(genotype):\n",
    "    \"\"\"Parametric 1-max\"\"\"\n",
    "    return sum(b == '1' for b in genotype)"
   ]
  },
  {
   "cell_type": "code",
   "execution_count": 5,
   "metadata": {},
   "outputs": [],
   "source": [
    "macro = byron.f.macro('{v}', v=byron.f.array_parameter('01', NUM_BITS + 1))\n",
    "top_frame = byron.f.sequence([macro])"
   ]
  },
  {
   "cell_type": "code",
   "execution_count": 6,
   "metadata": {},
   "outputs": [],
   "source": [
    "evaluator = byron.evaluator.PythonEvaluator(fitness, strip_phenotypes=True)"
   ]
  },
  {
   "cell_type": "markdown",
   "metadata": {},
   "source": [
    "## Default configuration"
   ]
  },
  {
   "cell_type": "code",
   "execution_count": 7,
   "metadata": {},
   "outputs": [],
   "source": [
    "max_generation=500\n",
    "lambda_=20\n",
    "mu=30\n",
    "top_n=5\n",
    "lifespan=100\n",
    "rewards=[0.7,0.3]\n",
    "temperature = 0.85"
   ]
  },
  {
   "cell_type": "code",
   "execution_count": 8,
   "metadata": {},
   "outputs": [],
   "source": [
    "# population = byron.ea.adaptive_ea(\n",
    "#     top_frame, evaluator, max_generation=max_generation, lambda_=lambda_, mu=mu, max_fitness=NUM_BITS, top_n=top_n, lifespan=lifespan, rewards=rewards, temperature=temperature\n",
    "# )"
   ]
  },
  {
   "cell_type": "markdown",
   "metadata": {},
   "source": [
    "## Tuning mu, lambda\n"
   ]
  },
  {
   "cell_type": "code",
   "execution_count": 9,
   "metadata": {},
   "outputs": [],
   "source": [
    "output_file = open('mu_lambda_mean.txt', 'a')"
   ]
  },
  {
   "cell_type": "code",
   "execution_count": 10,
   "metadata": {},
   "outputs": [],
   "source": [
    "from math import ceil\n",
    "from byron.sys import get_operators\n",
    "from time import time"
   ]
  },
  {
   "cell_type": "code",
   "execution_count": 11,
   "metadata": {},
   "outputs": [],
   "source": [
    "def log_operators(f):\n",
    "    all_ops = sorted(get_operators(), key=lambda o: (o.num_parents if o.num_parents is not None else -1, o.__name__))\n",
    "\n",
    "    descr = {None: 'init', 1: 'mut', 2: 'xover'}\n",
    "\n",
    "    f.write(f\"GENETIC OPERATORS\\n\")\n",
    "    for op in all_ops:\n",
    "        name = f'{op.__name__} ({descr[op.num_parents]})'\n",
    "        f.write(f\"* {name:.<50s}: {op.stats}\\n\")"
   ]
  },
  {
   "cell_type": "code",
   "execution_count": 12,
   "metadata": {},
   "outputs": [],
   "source": [
    "#logger.addHandler(logging.StreamHandler(output_file))"
   ]
  },
  {
   "cell_type": "code",
   "execution_count": 13,
   "metadata": {},
   "outputs": [
    {
     "name": "stderr",
     "output_type": "stream",
     "text": [
      "/home/saccuz/Scrivania/TESI/byron/byron/ea/adaptive.py:150: ByronPerformanceWarning: \n",
      "  The failure rate of 'node_crossover_unfussy' is 100% (0 successes out of 100 calls)\n",
      "  new_individuals += op(*parents)\n",
      "/home/saccuz/Scrivania/TESI/byron/byron/ea/adaptive.py:148: ByronPerformanceWarning: \n",
      "  The failure rate of 'add_macro_to_bunch' is 100% (0 successes out of 100 calls)\n",
      "  new_individuals += op(*parents, strength=sigma)\n",
      "/home/saccuz/Scrivania/TESI/byron/byron/ea/adaptive.py:148: ByronPerformanceWarning: \n",
      "  The failure rate of 'remove_macro_from_bunch' is 100% (0 successes out of 100 calls)\n",
      "  new_individuals += op(*parents, strength=sigma)\n",
      "/home/saccuz/Scrivania/TESI/byron/byron/ea/adaptive.py:150: ByronPerformanceWarning: \n",
      "  The failure rate of 'node_crossover_choosy' is 100% (0 successes out of 100 calls)\n",
      "  new_individuals += op(*parents)\n"
     ]
    },
    {
     "data": {
      "text/plain": [
       "13"
      ]
     },
     "execution_count": 13,
     "metadata": {},
     "output_type": "execute_result"
    }
   ],
   "source": [
    "for mu in range(10, 160, 10):\n",
    "    lambda_ = mu - ceil(mu*0.1)\n",
    "    mean_time = []\n",
    "\n",
    "    #output_file.write(f\"MU VALUE: {mu} LAMBDA VALUE: {lambda_}\\n\")\n",
    "    for _ in range(5):\n",
    "        t1 = time()\n",
    "\n",
    "        population = byron.ea.adaptive_ea(\n",
    "            top_frame, evaluator, max_generation=max_generation, lambda_=lambda_, mu=mu, max_fitness=NUM_BITS, top_n=top_n, lifespan=lifespan, rewards=rewards, temperature=temperature\n",
    "        )\n",
    "\n",
    "        t2 = time()\n",
    "\n",
    "        #output_file.write(f\"\\nTime: {t2-t1}\\n\")\n",
    "        #output_file.write(f\"AdaptiveEA: 🍀 {population[0].describe(include_fitness=True, include_structure=False, include_age=True, include_lineage=False)}\"\n",
    "        #    + f\" [🕓 gen: {population.generation:,} / fcalls: {evaluator.fitness_calls:,}]\")\n",
    "        #log_operators(output_file)\n",
    "        mean_time.append(t2-t1)\n",
    "    output_file.write(f\"time: {sum(mean_time)/len(mean_time)}\\n\")\n",
    "output_file.write(\"\\n\\n END LESS\\n\\n\")"
   ]
  },
  {
   "cell_type": "code",
   "execution_count": 14,
   "metadata": {},
   "outputs": [
    {
     "name": "stderr",
     "output_type": "stream",
     "text": [
      "/home/saccuz/Scrivania/TESI/byron/byron/ea/adaptive.py:150: ByronPerformanceWarning: \n",
      "  The failure rate of 'node_crossover_choosy' is 100% (0 successes out of 1,000 calls)\n",
      "  new_individuals += op(*parents)\n",
      "/home/saccuz/Scrivania/TESI/byron/byron/ea/adaptive.py:150: ByronPerformanceWarning: \n",
      "  The failure rate of 'node_crossover_unfussy' is 100% (0 successes out of 1,000 calls)\n",
      "  new_individuals += op(*parents)\n",
      "/home/saccuz/Scrivania/TESI/byron/byron/ea/adaptive.py:148: ByronPerformanceWarning: \n",
      "  The failure rate of 'remove_macro_from_bunch' is 100% (0 successes out of 1,000 calls)\n",
      "  new_individuals += op(*parents, strength=sigma)\n",
      "/home/saccuz/Scrivania/TESI/byron/byron/ea/adaptive.py:148: ByronPerformanceWarning: \n",
      "  The failure rate of 'add_macro_to_bunch' is 100% (0 successes out of 1,000 calls)\n",
      "  new_individuals += op(*parents, strength=sigma)\n"
     ]
    },
    {
     "data": {
      "text/plain": [
       "13"
      ]
     },
     "execution_count": 14,
     "metadata": {},
     "output_type": "execute_result"
    }
   ],
   "source": [
    "for mu in range(10, 160, 10):\n",
    "    lambda_ = mu + ceil(mu*0.1)\n",
    "    mean_time = []\n",
    "\n",
    "    #output_file.write(f\"MU VALUE: {mu} LAMBDA VALUE: {lambda_}\\n\")\n",
    "    for _ in range(5):\n",
    "        t1 = time()\n",
    "\n",
    "        population = byron.ea.adaptive_ea(\n",
    "            top_frame, evaluator, max_generation=max_generation, lambda_=lambda_, mu=mu, max_fitness=NUM_BITS, top_n=top_n, lifespan=lifespan, rewards=rewards, temperature=temperature\n",
    "        )\n",
    "\n",
    "        t2 = time()\n",
    "\n",
    "        #output_file.write(f\"\\nTime: {t2-t1}\\n\")\n",
    "        #output_file.write(f\"AdaptiveEA: 🍀 {population[0].describe(include_fitness=True, include_structure=False, include_age=True, include_lineage=False)}\"\n",
    "        #    + f\" [🕓 gen: {population.generation:,} / fcalls: {evaluator.fitness_calls:,}]\")\n",
    "        #log_operators(output_file)\n",
    "        mean_time.append(t2-t1)\n",
    "    output_file.write(f\"time: {sum(mean_time)/len(mean_time)}\\n\")\n",
    "output_file.write(\"\\n\\n END MORE\\n\\n\")"
   ]
  },
  {
   "cell_type": "code",
   "execution_count": 15,
   "metadata": {},
   "outputs": [],
   "source": [
    "# mu = 10\n",
    "# lambda_ = 20\n",
    "# output_file.write(f\"\\n\")\n",
    "# output_file.write(f\"MU VALUE: {mu} LAMBDA VALUE: {lambda_}\\n\")\n",
    "\n",
    "# t1 = time()\n",
    "\n",
    "# population = byron.ea.adaptive_ea(\n",
    "#     top_frame, evaluator, max_generation=max_generation, lambda_=lambda_, mu=mu, max_fitness=NUM_BITS, top_n=top_n, lifespan=lifespan, rewards=rewards, temperature=temperature\n",
    "# )\n",
    "\n",
    "# t2 = time()\n",
    "\n",
    "# output_file.write(f\"\\nTime: {t2-t1}\\n\")\n",
    "# output_file.write(f\"AdaptiveEA: 🍀 {population[0].describe(include_fitness=True, include_structure=False, include_age=True, include_lineage=False)}\"\n",
    "#     + f\" [🕓 gen: {population.generation:,} / fcalls: {evaluator.fitness_calls:,}]\")\n",
    "# log_operators(output_file)"
   ]
  },
  {
   "cell_type": "code",
   "execution_count": 16,
   "metadata": {},
   "outputs": [],
   "source": [
    "output_file.close()"
   ]
  },
  {
   "cell_type": "code",
   "execution_count": 17,
   "metadata": {},
   "outputs": [],
   "source": [
    "# mu = 10\n",
    "# lambda_ = 11\n",
    "# print(f\"\\n\")\n",
    "# print(f\"MU VALUE: {mu} LAMBDA VALUE: {lambda_}\\n\")\n",
    "# mean_time = []\n",
    "# for _ in range(5):\n",
    "#     t1 = time()\n",
    "\n",
    "#     population = byron.ea.adaptive_ea(\n",
    "#         top_frame, evaluator, max_generation=max_generation, lambda_=lambda_, mu=mu, max_fitness=NUM_BITS, top_n=top_n, lifespan=lifespan, rewards=rewards, temperature=temperature\n",
    "#     )\n",
    "\n",
    "#     t2 = time()\n",
    "\n",
    "#     print(f\"\\nTime: {t2-t1}\\n\")\n",
    "#     print(f\"AdaptiveEA: 🍀 {population[0].describe(include_fitness=True, include_structure=False, include_age=True, include_lineage=False)}\"\n",
    "#         + f\" [🕓 gen: {population.generation:,} / fcalls: {evaluator.fitness_calls:,}]\")\n",
    "#     mean_time.append(t2-t1)\n",
    "# print(sum(mean_time)/len(mean_time))\n"
   ]
  }
 ],
 "metadata": {
  "kernelspec": {
   "display_name": ".venv",
   "language": "python",
   "name": "python3"
  },
  "language_info": {
   "codemirror_mode": {
    "name": "ipython",
    "version": 3
   },
   "file_extension": ".py",
   "mimetype": "text/x-python",
   "name": "python",
   "nbconvert_exporter": "python",
   "pygments_lexer": "ipython3",
   "version": "3.10.12"
  }
 },
 "nbformat": 4,
 "nbformat_minor": 2
}
