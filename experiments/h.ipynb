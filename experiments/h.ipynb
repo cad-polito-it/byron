{
 "cells": [
  {
   "cell_type": "markdown",
   "metadata": {},
   "source": [
    "This notebook is part of [**Byron v0.1**](https://github.com/cad-polito-it/byron)  \n",
    "Copyright 2023 Giovanni Squillero and Alberto Tonda  \n",
    "SPDX-License-Identifier: [Apache-2.0](https://www.tldrlegal.com/license/apache-license-2-0-apache-2-0)  "
   ]
  },
  {
   "cell_type": "code",
   "execution_count": 1,
   "metadata": {
    "ExecuteTime": {
     "end_time": "2023-08-20T10:44:31.090918Z",
     "start_time": "2023-08-20T10:44:30.975914Z"
    }
   },
   "outputs": [
    {
     "name": "stderr",
     "output_type": "stream",
     "text": [
      "/var/folders/31/dkl97hks2c14b663vl55pt440000gn/T/ipykernel_7764/1429530752.py:1: ByronPerformanceWarning: \n",
      "  Paranoia checks are enabled in this notebook: performances can be significantly impaired\n",
      "  [see https://github.com/cad-polito-it/byron/blob/pre-alpha/docs/paranoia.md for details]\n",
      "  import byron\n"
     ]
    }
   ],
   "source": [
    "import byron"
   ]
  },
  {
   "cell_type": "code",
   "execution_count": 2,
   "outputs": [],
   "source": [
    "import seaborn as sns"
   ],
   "metadata": {
    "collapsed": false,
    "ExecuteTime": {
     "end_time": "2023-08-20T10:44:31.091255Z",
     "start_time": "2023-08-20T10:44:31.090147Z"
    }
   }
  },
  {
   "cell_type": "code",
   "execution_count": 3,
   "outputs": [],
   "source": [
    "from collections import Counter"
   ],
   "metadata": {
    "collapsed": false,
    "ExecuteTime": {
     "end_time": "2023-08-20T10:44:32.412154Z",
     "start_time": "2023-08-20T10:44:32.407161Z"
    }
   }
  },
  {
   "cell_type": "code",
   "execution_count": 12,
   "outputs": [
    {
     "data": {
      "text/plain": "[('A', 14642),\n ('B', 17231),\n ('C', 18318),\n ('D', 17251),\n ('E', 14462),\n ('F', 10841),\n ('G', 7255)]"
     },
     "execution_count": 12,
     "metadata": {},
     "output_type": "execute_result"
    }
   ],
   "source": [
    "samples = [byron.rrandom.choice(list(\"ABCDEFG\"), loc=2, sigma=.9) for _ in range(100_000)]\n",
    "cnt = Counter(samples)\n",
    "sorted(cnt.items())"
   ],
   "metadata": {
    "collapsed": false,
    "ExecuteTime": {
     "end_time": "2023-08-20T10:45:57.779732Z",
     "start_time": "2023-08-20T10:45:51.226811Z"
    }
   }
  },
  {
   "cell_type": "code",
   "execution_count": 6,
   "outputs": [
    {
     "name": "stdout",
     "output_type": "stream",
     "text": [
      "0 7 {'loc': 2, 'sigma': 0}\n"
     ]
    },
    {
     "data": {
      "text/plain": "6"
     },
     "execution_count": 6,
     "metadata": {},
     "output_type": "execute_result"
    }
   ],
   "source": [
    "byron.rrandom.random_int(0, 7, loc=2, sigma=0)"
   ],
   "metadata": {
    "collapsed": false,
    "ExecuteTime": {
     "end_time": "2023-08-20T10:40:15.279009Z",
     "start_time": "2023-08-20T10:40:15.273117Z"
    }
   }
  },
  {
   "cell_type": "code",
   "execution_count": 10,
   "outputs": [
    {
     "data": {
      "text/plain": "7"
     },
     "execution_count": 10,
     "metadata": {},
     "output_type": "execute_result"
    }
   ],
   "source": [
    "byron.rrandom.random_int(0, 10, loc=2, sigma=0)"
   ],
   "metadata": {
    "collapsed": false,
    "ExecuteTime": {
     "end_time": "2023-08-20T10:36:40.885169Z",
     "start_time": "2023-08-20T10:36:40.880122Z"
    }
   }
  },
  {
   "cell_type": "code",
   "execution_count": 8,
   "outputs": [
    {
     "name": "stderr",
     "output_type": "stream",
     "text": [
      "/Users/giovanni/Library/Caches/pypoetry/virtualenvs/byron-jT9JMjla-py3.11/lib/python3.11/site-packages/seaborn/axisgrid.py:118: UserWarning: The figure layout has changed to tight\n",
      "  self._figure.tight_layout(*args, **kwargs)\n"
     ]
    },
    {
     "data": {
      "text/plain": "<seaborn.axisgrid.FacetGrid at 0x16c8b8a10>"
     },
     "execution_count": 8,
     "metadata": {},
     "output_type": "execute_result"
    },
    {
     "data": {
      "text/plain": "<Figure size 500x500 with 1 Axes>",
      "image/png": "[encoded data removed]"
     },
     "metadata": {},
     "output_type": "display_data"
    }
   ],
   "source": [
    "samples = [byron.rrandom.random_float(0, 1) for _ in range(1_000_000)]\n",
    "sns.displot(samples,  bins=100)"
   ],
   "metadata": {
    "collapsed": false,
    "ExecuteTime": {
     "end_time": "2023-08-20T10:29:18.183548Z",
     "start_time": "2023-08-20T10:29:15.756735Z"
    }
   }
  },
  {
   "cell_type": "code",
   "execution_count": null,
   "outputs": [],
   "source": [
    "%time samples = [byron.rrandom.random_float(5, 10) for _ in range(1_000_000)]\n",
    "sns.displot(samples, bins=100)\n",
    "%time samples = [byron.rrandom.random_int(5, 10) for _ in range(1_000_000)]\n",
    "sns.displot(samples, bins=100)"
   ],
   "metadata": {
    "collapsed": false,
    "ExecuteTime": {
     "start_time": "2023-08-20T10:24:49.722167Z"
    }
   }
  },
  {
   "cell_type": "code",
   "execution_count": null,
   "outputs": [],
   "source": [
    "%time samples = [byron.rrandom.random_float(5, 10, loc=6, scale=1) for _ in range(1_000_000)]\n",
    "sns.displot(samples, bins=100)"
   ],
   "metadata": {
    "collapsed": false,
    "ExecuteTime": {
     "end_time": "2023-08-20T10:24:49.723850Z",
     "start_time": "2023-08-20T10:24:49.723453Z"
    }
   }
  },
  {
   "cell_type": "code",
   "execution_count": null,
   "outputs": [],
   "source": [
    "%time samples =[byron.rrandom.random_int(5, 10, loc=6, scale=1) for _ in range(1_000_000)]\n",
    "sns.displot(samples, binwidth=.01)"
   ],
   "metadata": {
    "collapsed": false,
    "ExecuteTime": {
     "end_time": "2023-08-20T10:24:49.725839Z",
     "start_time": "2023-08-20T10:24:49.724532Z"
    }
   }
  },
  {
   "cell_type": "code",
   "execution_count": null,
   "outputs": [],
   "source": [
    "from collections import Counter\n",
    "samples = [byron.rrandom.random_int(5, 10) for _ in range(1_000_000)]\n",
    "cnt = Counter(samples)\n",
    "cnt"
   ],
   "metadata": {
    "collapsed": false,
    "ExecuteTime": {
     "start_time": "2023-08-20T10:24:49.725715Z"
    }
   }
  },
  {
   "cell_type": "code",
   "execution_count": null,
   "outputs": [],
   "source": [
    "byron.rrandom.choice(list(\"ABCDEFG\"), loc=1, sigma=0)"
   ],
   "metadata": {
    "collapsed": false,
    "ExecuteTime": {
     "start_time": "2023-08-20T10:24:49.726437Z"
    }
   }
  }
 ],
 "metadata": {
  "kernelspec": {
   "display_name": "Python 3 (ipykernel)",
   "language": "python",
   "name": "python3"
  },
  "language_info": {
   "codemirror_mode": {
    "name": "ipython",
    "version": 3
   },
   "file_extension": ".py",
   "mimetype": "text/x-python",
   "name": "python",
   "nbconvert_exporter": "python",
   "pygments_lexer": "ipython3",
   "version": "3.11.4"
  }
 },
 "nbformat": 4,
 "nbformat_minor": 4
}
