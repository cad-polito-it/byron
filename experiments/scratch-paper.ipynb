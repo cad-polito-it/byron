{
 "cells": [
  {
   "cell_type": "code",
   "execution_count": 11,
   "metadata": {},
   "outputs": [],
   "source": [
    "#############################################################################\n",
    "#          __________                                                       #\n",
    "#   __  __/ ____/ __ \\__ __   This file is part of byron v1.0 \"Kiwi\"     #\n",
    "#  / / / / / __/ /_/ / // /   (!) by Giovanni Squillero and Alberto Tonda   #\n",
    "# / /_/ / /_/ / ____/ // /_   https://github.com/cad-polito-it/byron         #\n",
    "# \\__  /\\____/_/   /__  __/                                                 #\n",
    "#   /_/ --byron-- /_/      \"You don't need a big goal, be μ-ambitious!!\" #\n",
    "#                                                                           #\n",
    "#############################################################################"
   ]
  },
  {
   "cell_type": "code",
   "execution_count": 19,
   "metadata": {},
   "outputs": [],
   "source": [
    "import pickle\n",
    "from abc import ABC, abstractmethod\n",
    "from functools import wraps, cache"
   ]
  },
  {
   "cell_type": "code",
   "execution_count": 21,
   "metadata": {},
   "outputs": [],
   "source": [
    "class FitnessABC(ABC):\n",
    "    \"\"\"Fitness of a phenotype, handle multiple formats (eg. scalar, tuple).\n",
    "\n",
    "    The class also redefines the relational operator in order to handle different types of optimization\n",
    "    (eg. maximization, minimization) and to provide limited support to more complex scenarios\n",
    "    (eg. multi-objective optimization)\n",
    "\n",
    "    Equalities ('==' and '!=') are based on `is_distinguishable`.\n",
    "\n",
    "    Single angular-bracket operators ('>', '<', '>=', and '<=') are based on `is_fitter` and may be randomized\n",
    "    (ie. the result may not be reproducible).\n",
    "\n",
    "    Double angular-bracket operators ('>>' and '<<') are based on `is_dominant` and the result is stable. By default,\n",
    "    `is_dominant` is defined as `is_fitter`.\n",
    "\n",
    "    When subclassing, one should only redefine `is_fitter`, and optionally `is_distinguishable` and `is_dominant`;\n",
    "    `is_dominant` **must** be changed if `is_fitter` is randomized, making the result not reproducible.\n",
    "\n",
    "    Additional sanity checks should be added to `check_comparable\n",
    "    `. Subclasses may redefine the `decorate` method to\n",
    "    change the value appearance.\n",
    "    \"\"\"\n",
    "\n",
    "    @abstractmethod\n",
    "    def is_fitter(self, other: \"FitnessABC\") -> bool:\n",
    "        \"\"\"Check whether fitter than the other (result may be accidental).\"\"\"\n",
    "        assert self.check_comparable(other)\n",
    "        return super().__gt__(other)\n",
    "\n",
    "    def is_dominant(self, other: \"FitnessABC\") -> bool:\n",
    "        \"\"\"Check whether dominates the other (result is certain).\"\"\"\n",
    "        return self.is_fitter(other)\n",
    "\n",
    "    def is_distinguishable(self, other: \"FitnessABC\") -> bool:\n",
    "        \"\"\"Check whether some differences from the other Fitness may be perceived.\"\"\"\n",
    "        assert self.check_comparable(other)\n",
    "        return super().__ne__(other)\n",
    "\n",
    "    def check_comparable(self, other: \"FitnessABC\"):\n",
    "        assert str(self.__class__) == str(\n",
    "            other.__class__\n",
    "        ), f\"TypeError: different Fitness types: {self.__class__} and {other.__class__} (paranoia check)\"\n",
    "        return True\n",
    "\n",
    "    def _decorate(self) -> str:\n",
    "        \"\"\"Represent the individual fitness value with a nice string.\"\"\"\n",
    "        return f\"{super().__str__()}\"\n",
    "\n",
    "    # FINAL/WARNINGS\n",
    "\n",
    "    def __eq__(self, other) -> bool:\n",
    "        return not self.is_distinguishable(other)\n",
    "\n",
    "    def __ne__(self, other) -> bool:\n",
    "        return self.is_distinguishable(other)\n",
    "\n",
    "    def __gt__(self, other) -> bool:\n",
    "        return self.is_fitter(other)\n",
    "\n",
    "    def __lt__(self, other) -> bool:\n",
    "        return other.is_fitter(self)\n",
    "\n",
    "    def __ge__(self, other) -> bool:\n",
    "        return not self.__lt__(other)\n",
    "\n",
    "    def __le__(self, other) -> bool:\n",
    "        return not self.__gt__(other)\n",
    "\n",
    "    def __rshift__(self, other) -> bool:\n",
    "        return self.is_dominant(other)\n",
    "\n",
    "    def __lshift__(self, other) -> bool:\n",
    "        return other.is_dominant(self)\n",
    "\n",
    "    def __str__(self):\n",
    "        # Double parentheses: ⸨ ⸩  (U+2E28, U+2E29)\n",
    "        # White parentheses: ⦅ ⦆  (U+2985, U+2986)\n",
    "        # Fullwidth white parentheses:｟ ｠ (U+FF5F, U+FF60)\n",
    "        # Math white square parentheses: ⟦ ⟧ (U+27E6, U+27E7)\n",
    "        # Z notation binding bracket: ⦉ ⦊\n",
    "        # Curved angled bracket: ⧼ ⧽\n",
    "        return self._decorate() + \"Ƒ\"\n",
    "\n",
    "    def __repr__(self):\n",
    "        return f\"<{self.__class__.__module__}.{self.__class__.__name__} @ {hex(id(self))}>\"\n",
    "\n",
    "    def __hash__(self) -> int:\n",
    "        return super().__hash__()\n",
    "\n",
    "    def run_paranoia_checks(self) -> bool:\n",
    "        return super().run_paranoia_checks()"
   ]
  },
  {
   "cell_type": "code",
   "execution_count": 22,
   "metadata": {},
   "outputs": [],
   "source": [
    "class Integer(FitnessABC, int):\n",
    "    \"\"\"A single numeric value -- Larger is better.\"\"\"\n",
    "\n",
    "    def __new__(cls, *args, **kw):\n",
    "        return int.__new__(cls, *args, **kw)\n",
    "\n",
    "    def _decorate(self):\n",
    "        return str(int(self))"
   ]
  },
  {
   "cell_type": "code",
   "execution_count": 23,
   "metadata": {},
   "outputs": [
    {
     "data": {
      "text/plain": [
       "b'\\x80\\x04\\x95\\x1e\\x00\\x00\\x00\\x00\\x00\\x00\\x00\\x8c\\x08__main__\\x94\\x8c\\x07Integer\\x94\\x93\\x94K*\\x85\\x94\\x81\\x94.'"
      ]
     },
     "execution_count": 23,
     "metadata": {},
     "output_type": "execute_result"
    }
   ],
   "source": [
    "a = Integer(42)\n",
    "pickle.dumps(a)"
   ]
  },
  {
   "cell_type": "code",
   "execution_count": null,
   "metadata": {},
   "outputs": [],
   "source": []
  }
 ],
 "metadata": {
  "kernelspec": {
   "display_name": "Python 3 (ipykernel)",
   "language": "python",
   "name": "python3"
  },
  "language_info": {
   "codemirror_mode": {
    "name": "ipython",
    "version": 3
   },
   "file_extension": ".py",
   "mimetype": "text/x-python",
   "name": "python",
   "nbconvert_exporter": "python",
   "pygments_lexer": "ipython3",
   "version": "3.11.4"
  }
 },
 "nbformat": 4,
 "nbformat_minor": 4
}
