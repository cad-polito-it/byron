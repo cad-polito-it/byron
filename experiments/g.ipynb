{
 "cells": [
  {
   "cell_type": "markdown",
   "metadata": {},
   "source": [
    "This notebook is part of [**byron v0.1**](https://github.com/microgp/byron)  \n",
    "Copyright 2023 Giovanni Squillero and Alberto Tonda  \n",
    "SPDX-License-Identifier: [Apache-2.0](https://www.tldrlegal.com/license/apache-license-2-0-apache-2-0)  "
   ]
  },
  {
   "cell_type": "code",
   "execution_count": 1,
   "metadata": {
    "ExecuteTime": {
     "end_time": "2023-07-28T16:49:33.849499Z",
     "start_time": "2023-07-28T16:49:33.140891Z"
    }
   },
   "outputs": [
    {
     "name": "stderr",
     "output_type": "stream",
     "text": [
      "/var/folders/31/dkl97hks2c14b663vl55pt440000gn/T/ipykernel_25817/70525116.py:1: RuntimeWarning: \n",
      "  Paranoia checks are enabled: performances can be significantly impaired — consider setting 'PYTHONOPTIMIZE'\n",
      "  See https://github.com/squillero/byron/blob/pre-alpha/docs/paranoia.md for details\n",
      "  import byron\n"
     ]
    }
   ],
   "source": [
    "import byron"
   ]
  },
  {
   "cell_type": "code",
   "execution_count": null,
   "metadata": {},
   "outputs": [],
   "source": []
  }
 ],
 "metadata": {
  "kernelspec": {
   "display_name": "Python 3 (ipykernel)",
   "language": "python",
   "name": "python3"
  },
  "language_info": {
   "codemirror_mode": {
    "name": "ipython",
    "version": 3
   },
   "file_extension": ".py",
   "mimetype": "text/x-python",
   "name": "python",
   "nbconvert_exporter": "python",
   "pygments_lexer": "ipython3",
   "version": "3.11.4"
  }
 },
 "nbformat": 4,
 "nbformat_minor": 4
}
