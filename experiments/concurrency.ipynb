{
 "cells": [
  {
   "cell_type": "markdown",
   "id": "e2111c56",
   "metadata": {},
   "source": [
    "This notebook is part of [**byron v0.1**](https://github.com/microgp/byron)  \n",
    "Copyright 2023 Giovanni Squillero and Alberto Tonda  \n",
    "SPDX-License-Identifier: [Apache-2.0](https://www.tldrlegal.com/license/apache-license-2-0-apache-2-0)  "
   ]
  },
  {
   "cell_type": "markdown",
   "id": "4b32f258",
   "metadata": {},
   "source": [
    "# Concurrency in Python"
   ]
  },
  {
   "cell_type": "code",
   "execution_count": 1,
   "id": "917a6cc7",
   "metadata": {},
   "outputs": [],
   "source": [
    "import logging\n",
    "\n",
    "logging.getLogger().setLevel(logging.INFO)"
   ]
  },
  {
   "cell_type": "code",
   "execution_count": 2,
   "id": "56532126",
   "metadata": {},
   "outputs": [],
   "source": [
    "def fibonacci(steps: int) -> int:\n",
    "    f1, f2 = 1, 1\n",
    "    for _ in range(1, steps):\n",
    "        f0, f1 = f1, f2\n",
    "        f2 = f0 + f1\n",
    "    logging.info(f\"fibonacci: f_{steps}\")\n",
    "    return f2"
   ]
  },
  {
   "cell_type": "code",
   "execution_count": 3,
   "id": "f57c9402",
   "metadata": {},
   "outputs": [],
   "source": [
    "JOB_SIZE = 200_000"
   ]
  },
  {
   "cell_type": "code",
   "execution_count": 4,
   "id": "231631f1",
   "metadata": {},
   "outputs": [
    {
     "name": "stderr",
     "output_type": "stream",
     "text": [
      "INFO:root:fibonacci: f_200000\n",
      "INFO:root:fibonacci: f_200000\n",
      "INFO:root:fibonacci: f_200000\n",
      "INFO:root:fibonacci: f_200000\n",
      "INFO:root:fibonacci: f_200000\n"
     ]
    },
    {
     "name": "stdout",
     "output_type": "stream",
     "text": [
      "CPU times: user 3.89 s, sys: 15.1 ms, total: 3.9 s\n",
      "Wall time: 3.9 s\n"
     ]
    }
   ],
   "source": [
    "%%time\n",
    "\n",
    "for _ in range(5):\n",
    "    fibonacci(JOB_SIZE)\n",
    "None"
   ]
  },
  {
   "cell_type": "markdown",
   "id": "ef5b50b6",
   "metadata": {},
   "source": [
    "## Thread-based"
   ]
  },
  {
   "cell_type": "code",
   "execution_count": 5,
   "id": "6310229d",
   "metadata": {},
   "outputs": [],
   "source": [
    "import threading"
   ]
  },
  {
   "cell_type": "code",
   "execution_count": 6,
   "id": "ff60b3a7",
   "metadata": {},
   "outputs": [
    {
     "name": "stderr",
     "output_type": "stream",
     "text": [
      "INFO:root:fibonacci: f_200000\n",
      "INFO:root:fibonacci: f_200000\n",
      "INFO:root:fibonacci: f_200000\n",
      "INFO:root:fibonacci: f_200000\n",
      "INFO:root:fibonacci: f_200000\n"
     ]
    },
    {
     "name": "stdout",
     "output_type": "stream",
     "text": [
      "CPU times: user 3.89 s, sys: 37.9 ms, total: 3.93 s\n",
      "Wall time: 3.91 s\n"
     ]
    }
   ],
   "source": [
    "%%time\n",
    "\n",
    "pool = list()\n",
    "for _ in range(5):\n",
    "    pool.append(threading.Thread(target=fibonacci, args=(JOB_SIZE,)))\n",
    "\n",
    "for t in pool:\n",
    "    t.start()\n",
    "for t in pool:\n",
    "    t.join()"
   ]
  },
  {
   "cell_type": "markdown",
   "id": "1b49b6a0",
   "metadata": {},
   "source": [
    "## Process-based"
   ]
  },
  {
   "cell_type": "code",
   "execution_count": null,
   "id": "05fb373e",
   "metadata": {},
   "outputs": [],
   "source": []
  },
  {
   "cell_type": "code",
   "execution_count": 7,
   "id": "f97cc601",
   "metadata": {},
   "outputs": [
    {
     "data": {
      "text/plain": [
       "'fibonacci'"
      ]
     },
     "execution_count": 7,
     "metadata": {},
     "output_type": "execute_result"
    }
   ],
   "source": [
    "fibonacci.__qualname__\n",
    "# p = multiprocessing.Process(target=fibonacci)\n",
    "# p.start()"
   ]
  },
  {
   "cell_type": "code",
   "execution_count": 9,
   "id": "a0d4ec60",
   "metadata": {},
   "outputs": [],
   "source": [
    "import time"
   ]
  },
  {
   "cell_type": "code",
   "execution_count": null,
   "id": "f5c66e60",
   "metadata": {},
   "outputs": [],
   "source": [
    "time.time()"
   ]
  }
 ],
 "metadata": {
  "kernelspec": {
   "display_name": "Python 3 (ipykernel)",
   "language": "python",
   "name": "python3"
  },
  "language_info": {
   "codemirror_mode": {
    "name": "ipython",
    "version": 3
   },
   "file_extension": ".py",
   "mimetype": "text/x-python",
   "name": "python",
   "nbconvert_exporter": "python",
   "pygments_lexer": "ipython3",
   "version": "3.11.4"
  }
 },
 "nbformat": 4,
 "nbformat_minor": 5
}
