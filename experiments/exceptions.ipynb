{
 "cells": [
  {
   "cell_type": "markdown",
   "id": "6f45a31c-5ead-4c84-9a47-fef125c28778",
   "metadata": {},
   "source": [
    "This notebook is part of [**byron v0.1**](https://github.com/microgp/byron)  \n",
    "Copyright 2023 Giovanni Squillero and Alberto Tonda  \n",
    "SPDX-License-Identifier: [Apache-2.0](https://www.tldrlegal.com/license/apache-license-2-0-apache-2-0)  "
   ]
  },
  {
   "cell_type": "code",
   "execution_count": 2,
   "id": "c97d5148-b11d-4295-9bb0-42dc87a52c14",
   "metadata": {},
   "outputs": [
    {
     "name": "stderr",
     "output_type": "stream",
     "text": [
      "/var/folders/31/dkl97hks2c14b663vl55pt440000gn/T/ipykernel_3770/70525116.py:1: RuntimeWarning: \n",
      "  Paranoia checks are enabled: performances can be significantly impaired — consider setting 'PYTHONOPTIMIZE'\n",
      "  See https://github.com/squillero/byron/blob/pre-alpha/PARANOIA.md for details\n",
      "  import byron\n"
     ]
    }
   ],
   "source": [
    "import byron"
   ]
  },
  {
   "cell_type": "code",
   "execution_count": 1,
   "id": "640b3a5a-bc12-4f40-b222-4a21d6517e27",
   "metadata": {},
   "outputs": [
    {
     "name": "stderr",
     "output_type": "stream",
     "text": [
      "10:09:55 ▷ INFO ▷ MicroGP::⭐: This is MicroGP v4!2.0a0.dev1 \"Meaning of Liff\"\n",
      "10:09:55 ▷ INFO ▷ MicroGP::⭐: (c) 2022-23 G. Squillero & A. Tonda — Licensed under Apache-2.0\n"
     ]
    }
   ],
   "source": [
    "%%python -O\n",
    "\n",
    "import byron\n",
    "\n",
    "# My fuzzer goes here"
   ]
  },
  {
   "cell_type": "code",
   "execution_count": null,
   "id": "6491434c-541b-40b2-8c8f-9161178d60ae",
   "metadata": {},
   "outputs": [],
   "source": []
  }
 ],
 "metadata": {
  "kernelspec": {
   "display_name": "Python 3 (ipykernel)",
   "language": "python",
   "name": "python3"
  },
  "language_info": {
   "codemirror_mode": {
    "name": "ipython",
    "version": 3
   },
   "file_extension": ".py",
   "mimetype": "text/x-python",
   "name": "python",
   "nbconvert_exporter": "python",
   "pygments_lexer": "ipython3",
   "version": "3.11.4"
  }
 },
 "nbformat": 4,
 "nbformat_minor": 5
}
