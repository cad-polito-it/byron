{
 "cells": [
  {
   "cell_type": "markdown",
   "id": "6f45a31c-5ead-4c84-9a47-fef125c28778",
   "metadata": {},
   "source": [
    "This notebook is part of [**Byron v0.8**](https://pypi.org/project/byron/)  \n",
    "Copyright 2023-24 Giovanni Squillero and Alberto Tonda  \n",
    "SPDX-License-Identifier: [Apache-2.0](https://opensource.org/license/apache-2-0/)  "
   ]
  },
  {
   "cell_type": "code",
   "execution_count": 1,
   "id": "c97d5148-b11d-4295-9bb0-42dc87a52c14",
   "metadata": {
    "ExecuteTime": {
     "end_time": "2023-08-11T13:00:48.268956Z",
     "start_time": "2023-08-11T13:00:47.359839Z"
    }
   },
   "outputs": [
    {
     "name": "stderr",
     "output_type": "stream",
     "text": [
      "/var/folders/31/dkl97hks2c14b663vl55pt440000gn/T/ipykernel_17807/1429530752.py:1: RuntimeWarning: \n",
      "  Paranoia checks are enabled in this notebook: performances can be significantly impaired\n",
      "  [see https://github.com/cad-polito-it/byron/blob/alpha/docs/paranoia.md for details]\n",
      "  import byron\n"
     ]
    }
   ],
   "source": [
    "import byron"
   ]
  },
  {
   "cell_type": "code",
   "execution_count": 2,
   "id": "640b3a5a-bc12-4f40-b222-4a21d6517e27",
   "metadata": {
    "ExecuteTime": {
     "end_time": "2023-08-11T13:00:50.263225Z",
     "start_time": "2023-08-11T13:00:48.270924Z"
    }
   },
   "outputs": [
    {
     "name": "stderr",
     "output_type": "stream",
     "text": [
      "15:00:50 ▷ INFO ▷ byron::🖋: This is Byron v4!2.0a0.dev1 \"Meaning of Liff\"\n",
      "15:00:50 ▷ INFO ▷ byron::🖋: (c) 2023 G. Squillero & A. Tonda — Licensed under Apache-2.0\n"
     ]
    }
   ],
   "source": [
    "%%python -O\n",
    "\n",
    "import byron\n",
    "\n",
    "# My fuzzer goes here"
   ]
  },
  {
   "cell_type": "code",
   "execution_count": 2,
   "id": "6491434c-541b-40b2-8c8f-9161178d60ae",
   "metadata": {
    "ExecuteTime": {
     "end_time": "2023-08-11T13:00:50.266230Z",
     "start_time": "2023-08-11T13:00:50.263417Z"
    }
   },
   "outputs": [],
   "source": []
  }
 ],
 "metadata": {
  "kernelspec": {
   "display_name": "Python 3 (ipykernel)",
   "language": "python",
   "name": "python3"
  },
  "language_info": {
   "codemirror_mode": {
    "name": "ipython",
    "version": 3
   },
   "file_extension": ".py",
   "mimetype": "text/x-python",
   "name": "python",
   "nbconvert_exporter": "python",
   "pygments_lexer": "ipython3",
   "version": "3.11.4"
  }
 },
 "nbformat": 4,
 "nbformat_minor": 5
}
