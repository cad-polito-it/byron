{
 "cells": [
  {
   "cell_type": "markdown",
   "id": "28a1c22e",
   "metadata": {},
   "source": [
    "This notebook is part of [**Byron v0.1**](https://github.com/squillero/byron)  \n",
    "Copyright 2023 Giovanni Squillero and Alberto Tonda  \n",
    "SPDX-License-Identifier: Apache-2.0  "
   ]
  },
  {
   "cell_type": "code",
   "execution_count": 30,
   "id": "a40b0cd7",
   "metadata": {},
   "outputs": [],
   "source": [
    "def beauty(f=None, /, *, x=1, y=2):\n",
    "    print(f)\n",
    "\n",
    "    def wrap(*args, **kwargs):\n",
    "        print(f\"Pre: {x} {y}\")\n",
    "        f(*args, **kwargs)\n",
    "        print(\"Post\")\n",
    "\n",
    "    if f is None:\n",
    "        return lambda f: beauty(f, x=x, y=y)\n",
    "    else:\n",
    "        return wrap"
   ]
  },
  {
   "cell_type": "code",
   "execution_count": 33,
   "id": "c419cdab",
   "metadata": {},
   "outputs": [
    {
     "name": "stdout",
     "output_type": "stream",
     "text": [
      "<function foo at 0x104994680>\n"
     ]
    }
   ],
   "source": [
    "@beauty\n",
    "def foo(x):\n",
    "    print(\"foo\", x)"
   ]
  },
  {
   "cell_type": "code",
   "execution_count": 34,
   "id": "ef1cc5ae",
   "metadata": {},
   "outputs": [
    {
     "name": "stdout",
     "output_type": "stream",
     "text": [
      "Pre: 1 2\n",
      "foo 23\n",
      "Post\n"
     ]
    }
   ],
   "source": [
    "foo(23)"
   ]
  },
  {
   "cell_type": "code",
   "execution_count": 35,
   "id": "25797ca8",
   "metadata": {},
   "outputs": [
    {
     "name": "stdout",
     "output_type": "stream",
     "text": [
      "None\n",
      "<function foo at 0x104997f60>\n"
     ]
    }
   ],
   "source": [
    "@beauty(x=10, y=20)\n",
    "def foo():\n",
    "    print(\"foo\")"
   ]
  },
  {
   "cell_type": "code",
   "execution_count": 36,
   "id": "6ea6f77d",
   "metadata": {},
   "outputs": [
    {
     "name": "stdout",
     "output_type": "stream",
     "text": [
      "Pre: 10 20\n",
      "foo\n",
      "Post\n"
     ]
    }
   ],
   "source": [
    "foo()"
   ]
  },
  {
   "cell_type": "code",
   "execution_count": null,
   "id": "18da9fbc",
   "metadata": {},
   "outputs": [],
   "source": []
  }
 ],
 "metadata": {
  "kernelspec": {
   "display_name": "Python 3 (ipykernel)",
   "language": "python",
   "name": "python3"
  },
  "language_info": {
   "codemirror_mode": {
    "name": "ipython",
    "version": 3
   },
   "file_extension": ".py",
   "mimetype": "text/x-python",
   "name": "python",
   "nbconvert_exporter": "python",
   "pygments_lexer": "ipython3",
   "version": "3.11.3"
  }
 },
 "nbformat": 4,
 "nbformat_minor": 5
}
