{
 "cells": [
  {
   "cell_type": "markdown",
   "id": "4688d7f3",
   "metadata": {},
   "source": [
    "This notebook is part of [**byron v0.1**](https://github.com/squillero/byron)  \n",
    "Copyright 2023 Giovanni Squillero and Alberto Tonda  \n",
    "SPDX-License-Identifier: [Apache-2.0](https://www.tldrlegal.com/license/apache-license-2-0-apache-2-0)  "
   ]
  },
  {
   "cell_type": "code",
   "execution_count": 9,
   "id": "5d8fa98e",
   "metadata": {},
   "outputs": [],
   "source": [
    "def foo(x):\n",
    "    \"\"\"Hey!\"\"\"\n",
    "    print(x)"
   ]
  },
  {
   "cell_type": "code",
   "execution_count": 10,
   "id": "efe454b8",
   "metadata": {},
   "outputs": [],
   "source": [
    "foo.num_parents = 23"
   ]
  },
  {
   "cell_type": "code",
   "execution_count": 11,
   "id": "97eb8c49",
   "metadata": {},
   "outputs": [
    {
     "data": {
      "text/plain": [
       "{'num_parents': 23}"
      ]
     },
     "execution_count": 11,
     "metadata": {},
     "output_type": "execute_result"
    }
   ],
   "source": [
    "foo.__dict__"
   ]
  },
  {
   "cell_type": "code",
   "execution_count": 12,
   "id": "2b4ef928",
   "metadata": {},
   "outputs": [
    {
     "data": {
      "text/plain": [
       "['num_parents',\n",
       " '__new__',\n",
       " '__repr__',\n",
       " '__call__',\n",
       " '__get__',\n",
       " '__closure__',\n",
       " '__doc__',\n",
       " '__globals__',\n",
       " '__module__',\n",
       " '__builtins__',\n",
       " '__code__',\n",
       " '__defaults__',\n",
       " '__kwdefaults__',\n",
       " '__annotations__',\n",
       " '__dict__',\n",
       " '__name__',\n",
       " '__qualname__',\n",
       " '__hash__',\n",
       " '__str__',\n",
       " '__getattribute__',\n",
       " '__setattr__',\n",
       " '__delattr__',\n",
       " '__lt__',\n",
       " '__le__',\n",
       " '__eq__',\n",
       " '__ne__',\n",
       " '__gt__',\n",
       " '__ge__',\n",
       " '__init__',\n",
       " '__reduce_ex__',\n",
       " '__reduce__',\n",
       " '__getstate__',\n",
       " '__subclasshook__',\n",
       " '__init_subclass__',\n",
       " '__format__',\n",
       " '__sizeof__',\n",
       " '__dir__',\n",
       " '__class__']"
      ]
     },
     "execution_count": 12,
     "metadata": {},
     "output_type": "execute_result"
    }
   ],
   "source": [
    "foo.__dir__()"
   ]
  },
  {
   "cell_type": "code",
   "execution_count": 13,
   "id": "aeef3301",
   "metadata": {},
   "outputs": [
    {
     "data": {
      "text/plain": [
       "'Hey!'"
      ]
     },
     "execution_count": 13,
     "metadata": {},
     "output_type": "execute_result"
    }
   ],
   "source": [
    "foo.__doc__"
   ]
  },
  {
   "cell_type": "code",
   "execution_count": null,
   "id": "421d7619",
   "metadata": {},
   "outputs": [],
   "source": []
  }
 ],
 "metadata": {
  "kernelspec": {
   "display_name": "Python 3 (ipykernel)",
   "language": "python",
   "name": "python3"
  },
  "language_info": {
   "codemirror_mode": {
    "name": "ipython",
    "version": 3
   },
   "file_extension": ".py",
   "mimetype": "text/x-python",
   "name": "python",
   "nbconvert_exporter": "python",
   "pygments_lexer": "ipython3",
   "version": "3.11.3"
  }
 },
 "nbformat": 4,
 "nbformat_minor": 5
}
